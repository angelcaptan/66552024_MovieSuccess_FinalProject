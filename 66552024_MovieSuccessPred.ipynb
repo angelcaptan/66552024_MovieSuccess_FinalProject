{
  "cells": [
    {
      "cell_type": "markdown",
      "metadata": {
        "id": "view-in-github",
        "colab_type": "text"
      },
      "source": [
        "<a href=\"https://colab.research.google.com/github/angelcaptan/66552024_MovieSuccess_FinalProject/blob/main/66552024_MovieSuccessPred.ipynb\" target=\"_parent\"><img src=\"https://colab.research.google.com/assets/colab-badge.svg\" alt=\"Open In Colab\"/></a>"
      ]
    },
    {
      "cell_type": "markdown",
      "metadata": {
        "id": "TMl0eMQjqrgo"
      },
      "source": [
        "#Introduction\n",
        "\n",
        "**Author: Angel Jasmine Captan**\n",
        "\n",
        "**Assignment: Intro to AI Final Summative Project**\n",
        "\n",
        "## Description\n",
        "This project aims to revolutionize the film industry by developing a Python-based movie success prediction system. By leveraging machine learning algorithms, including Random Forest, XGBoost, and Multilayer Perceptron Model, the system is designed to forecast a movie's success based on various attributes such as budget, popularity score, revenue, voting average rating, voting count, and genre.\n",
        "\n",
        "The ensemble model combines the predictions of these three models, offering a comprehensive approach to success prediction. The model was trained on the Kaggle Movies MetaData Dataset, encompassing data from thousands of movies. Key applications include assisting investors in gauging the risk of movie investments, aiding filmmakers in decision-making, and guiding viewers towards films they are more likely to enjoy.\n",
        "\n",
        "\n",
        "If a movie's profit margin surpasses 50%(0.5), it is considered successful, providing valuable insights for stakeholders across the film business.\n",
        "\n"
      ]
    },
    {
      "cell_type": "markdown",
      "metadata": {
        "id": "6ACPZo-YrC3u"
      },
      "source": [
        "## Imports and Data Loading\n",
        "This section of the notebook will be dedicated to installing, loading datasets and libraries"
      ]
    },
    {
      "cell_type": "code",
      "execution_count": 1,
      "metadata": {
        "colab": {
          "base_uri": "https://localhost:8080/"
        },
        "id": "-UgGzW-gaW3E",
        "outputId": "69a5ce83-a757-477d-e9fa-30f6e5193750"
      },
      "outputs": [
        {
          "output_type": "stream",
          "name": "stdout",
          "text": [
            "Drive already mounted at /content/drive; to attempt to forcibly remount, call drive.mount(\"/content/drive\", force_remount=True).\n"
          ]
        }
      ],
      "source": [
        "# Importing necessary libraries\n",
        "import pandas as pd\n",
        "import numpy as np\n",
        "import seaborn as sns\n",
        "import matplotlib.pyplot as plt\n",
        "import xgboost as xgb\n",
        "import pickle\n",
        "\n",
        "\n",
        "\n",
        "\n",
        "from sklearn.model_selection import GridSearchCV, cross_val_score, KFold\n",
        "from sklearn.metrics import accuracy_score, precision_score, recall_score, f1_score, confusion_matrix, classification_report\n",
        "from sklearn.model_selection import train_test_split\n",
        "from sklearn.preprocessing import StandardScaler\n",
        "from sklearn.compose import ColumnTransformer\n",
        "from sklearn.impute import SimpleImputer\n",
        "from sklearn.pipeline import make_pipeline\n",
        "from sklearn.ensemble import RandomForestClassifier, VotingClassifier\n",
        "from sklearn.neural_network import MLPClassifier\n",
        "\n",
        "from google.colab import drive\n",
        "drive.mount('/content/drive')"
      ]
    },
    {
      "cell_type": "markdown",
      "metadata": {
        "id": "AIqe8DPw7MCC"
      },
      "source": [
        "From the Movies Dataset on Kaggle I decide to pick the movies_metadata.csv that houses 45,466 movies with 24 features."
      ]
    },
    {
      "cell_type": "code",
      "execution_count": 2,
      "metadata": {
        "colab": {
          "base_uri": "https://localhost:8080/"
        },
        "id": "0R_xe3WWrYYi",
        "outputId": "5ebe522f-923e-48cf-a38b-c2473affa0af"
      },
      "outputs": [
        {
          "output_type": "stream",
          "name": "stderr",
          "text": [
            "<ipython-input-2-dbda92929b34>:2: DtypeWarning: Columns (10) have mixed types. Specify dtype option on import or set low_memory=False.\n",
            "  movieD = pd.read_csv('/content/drive/My Drive/Colab Notebooks/movies_metadata.csv')\n"
          ]
        }
      ],
      "source": [
        "#loading datasets\n",
        "movieD = pd.read_csv('/content/drive/My Drive/Colab Notebooks/movies_metadata.csv')\n",
        "\n"
      ]
    },
    {
      "cell_type": "markdown",
      "metadata": {
        "id": "RGQl8hjurpBI"
      },
      "source": [
        "# Data Preprocessing\n",
        "\n",
        "This section focuses on cleaning,trimming and shaping the data so that its suitable for training."
      ]
    },
    {
      "cell_type": "code",
      "execution_count": 3,
      "metadata": {
        "colab": {
          "base_uri": "https://localhost:8080/",
          "height": 707
        },
        "id": "b1OVtb2LzyAa",
        "outputId": "40d2f2df-b3dc-43de-d416-2e71ab5fbb88"
      },
      "outputs": [
        {
          "output_type": "execute_result",
          "data": {
            "text/plain": [
              "   adult                              belongs_to_collection    budget  \\\n",
              "0  False  {'id': 10194, 'name': 'Toy Story Collection', ...  30000000   \n",
              "1  False                                                NaN  65000000   \n",
              "2  False  {'id': 119050, 'name': 'Grumpy Old Men Collect...         0   \n",
              "3  False                                                NaN  16000000   \n",
              "4  False  {'id': 96871, 'name': 'Father of the Bride Col...         0   \n",
              "\n",
              "                                              genres  \\\n",
              "0  [{'id': 16, 'name': 'Animation'}, {'id': 35, '...   \n",
              "1  [{'id': 12, 'name': 'Adventure'}, {'id': 14, '...   \n",
              "2  [{'id': 10749, 'name': 'Romance'}, {'id': 35, ...   \n",
              "3  [{'id': 35, 'name': 'Comedy'}, {'id': 18, 'nam...   \n",
              "4                     [{'id': 35, 'name': 'Comedy'}]   \n",
              "\n",
              "                               homepage     id    imdb_id original_language  \\\n",
              "0  http://toystory.disney.com/toy-story    862  tt0114709                en   \n",
              "1                                   NaN   8844  tt0113497                en   \n",
              "2                                   NaN  15602  tt0113228                en   \n",
              "3                                   NaN  31357  tt0114885                en   \n",
              "4                                   NaN  11862  tt0113041                en   \n",
              "\n",
              "                original_title  \\\n",
              "0                    Toy Story   \n",
              "1                      Jumanji   \n",
              "2             Grumpier Old Men   \n",
              "3            Waiting to Exhale   \n",
              "4  Father of the Bride Part II   \n",
              "\n",
              "                                            overview  ... release_date  \\\n",
              "0  Led by Woody, Andy's toys live happily in his ...  ...   1995-10-30   \n",
              "1  When siblings Judy and Peter discover an encha...  ...   1995-12-15   \n",
              "2  A family wedding reignites the ancient feud be...  ...   1995-12-22   \n",
              "3  Cheated on, mistreated and stepped on, the wom...  ...   1995-12-22   \n",
              "4  Just when George Banks has recovered from his ...  ...   1995-02-10   \n",
              "\n",
              "       revenue runtime                                   spoken_languages  \\\n",
              "0  373554033.0    81.0           [{'iso_639_1': 'en', 'name': 'English'}]   \n",
              "1  262797249.0   104.0  [{'iso_639_1': 'en', 'name': 'English'}, {'iso...   \n",
              "2          0.0   101.0           [{'iso_639_1': 'en', 'name': 'English'}]   \n",
              "3   81452156.0   127.0           [{'iso_639_1': 'en', 'name': 'English'}]   \n",
              "4   76578911.0   106.0           [{'iso_639_1': 'en', 'name': 'English'}]   \n",
              "\n",
              "     status                                            tagline  \\\n",
              "0  Released                                                NaN   \n",
              "1  Released          Roll the dice and unleash the excitement!   \n",
              "2  Released  Still Yelling. Still Fighting. Still Ready for...   \n",
              "3  Released  Friends are the people who let you be yourself...   \n",
              "4  Released  Just When His World Is Back To Normal... He's ...   \n",
              "\n",
              "                         title  video vote_average vote_count  \n",
              "0                    Toy Story  False          7.7     5415.0  \n",
              "1                      Jumanji  False          6.9     2413.0  \n",
              "2             Grumpier Old Men  False          6.5       92.0  \n",
              "3            Waiting to Exhale  False          6.1       34.0  \n",
              "4  Father of the Bride Part II  False          5.7      173.0  \n",
              "\n",
              "[5 rows x 24 columns]"
            ],
            "text/html": [
              "\n",
              "  <div id=\"df-e6b1d3be-0d45-45a3-8e9c-8ad59f1f8609\" class=\"colab-df-container\">\n",
              "    <div>\n",
              "<style scoped>\n",
              "    .dataframe tbody tr th:only-of-type {\n",
              "        vertical-align: middle;\n",
              "    }\n",
              "\n",
              "    .dataframe tbody tr th {\n",
              "        vertical-align: top;\n",
              "    }\n",
              "\n",
              "    .dataframe thead th {\n",
              "        text-align: right;\n",
              "    }\n",
              "</style>\n",
              "<table border=\"1\" class=\"dataframe\">\n",
              "  <thead>\n",
              "    <tr style=\"text-align: right;\">\n",
              "      <th></th>\n",
              "      <th>adult</th>\n",
              "      <th>belongs_to_collection</th>\n",
              "      <th>budget</th>\n",
              "      <th>genres</th>\n",
              "      <th>homepage</th>\n",
              "      <th>id</th>\n",
              "      <th>imdb_id</th>\n",
              "      <th>original_language</th>\n",
              "      <th>original_title</th>\n",
              "      <th>overview</th>\n",
              "      <th>...</th>\n",
              "      <th>release_date</th>\n",
              "      <th>revenue</th>\n",
              "      <th>runtime</th>\n",
              "      <th>spoken_languages</th>\n",
              "      <th>status</th>\n",
              "      <th>tagline</th>\n",
              "      <th>title</th>\n",
              "      <th>video</th>\n",
              "      <th>vote_average</th>\n",
              "      <th>vote_count</th>\n",
              "    </tr>\n",
              "  </thead>\n",
              "  <tbody>\n",
              "    <tr>\n",
              "      <th>0</th>\n",
              "      <td>False</td>\n",
              "      <td>{'id': 10194, 'name': 'Toy Story Collection', ...</td>\n",
              "      <td>30000000</td>\n",
              "      <td>[{'id': 16, 'name': 'Animation'}, {'id': 35, '...</td>\n",
              "      <td>http://toystory.disney.com/toy-story</td>\n",
              "      <td>862</td>\n",
              "      <td>tt0114709</td>\n",
              "      <td>en</td>\n",
              "      <td>Toy Story</td>\n",
              "      <td>Led by Woody, Andy's toys live happily in his ...</td>\n",
              "      <td>...</td>\n",
              "      <td>1995-10-30</td>\n",
              "      <td>373554033.0</td>\n",
              "      <td>81.0</td>\n",
              "      <td>[{'iso_639_1': 'en', 'name': 'English'}]</td>\n",
              "      <td>Released</td>\n",
              "      <td>NaN</td>\n",
              "      <td>Toy Story</td>\n",
              "      <td>False</td>\n",
              "      <td>7.7</td>\n",
              "      <td>5415.0</td>\n",
              "    </tr>\n",
              "    <tr>\n",
              "      <th>1</th>\n",
              "      <td>False</td>\n",
              "      <td>NaN</td>\n",
              "      <td>65000000</td>\n",
              "      <td>[{'id': 12, 'name': 'Adventure'}, {'id': 14, '...</td>\n",
              "      <td>NaN</td>\n",
              "      <td>8844</td>\n",
              "      <td>tt0113497</td>\n",
              "      <td>en</td>\n",
              "      <td>Jumanji</td>\n",
              "      <td>When siblings Judy and Peter discover an encha...</td>\n",
              "      <td>...</td>\n",
              "      <td>1995-12-15</td>\n",
              "      <td>262797249.0</td>\n",
              "      <td>104.0</td>\n",
              "      <td>[{'iso_639_1': 'en', 'name': 'English'}, {'iso...</td>\n",
              "      <td>Released</td>\n",
              "      <td>Roll the dice and unleash the excitement!</td>\n",
              "      <td>Jumanji</td>\n",
              "      <td>False</td>\n",
              "      <td>6.9</td>\n",
              "      <td>2413.0</td>\n",
              "    </tr>\n",
              "    <tr>\n",
              "      <th>2</th>\n",
              "      <td>False</td>\n",
              "      <td>{'id': 119050, 'name': 'Grumpy Old Men Collect...</td>\n",
              "      <td>0</td>\n",
              "      <td>[{'id': 10749, 'name': 'Romance'}, {'id': 35, ...</td>\n",
              "      <td>NaN</td>\n",
              "      <td>15602</td>\n",
              "      <td>tt0113228</td>\n",
              "      <td>en</td>\n",
              "      <td>Grumpier Old Men</td>\n",
              "      <td>A family wedding reignites the ancient feud be...</td>\n",
              "      <td>...</td>\n",
              "      <td>1995-12-22</td>\n",
              "      <td>0.0</td>\n",
              "      <td>101.0</td>\n",
              "      <td>[{'iso_639_1': 'en', 'name': 'English'}]</td>\n",
              "      <td>Released</td>\n",
              "      <td>Still Yelling. Still Fighting. Still Ready for...</td>\n",
              "      <td>Grumpier Old Men</td>\n",
              "      <td>False</td>\n",
              "      <td>6.5</td>\n",
              "      <td>92.0</td>\n",
              "    </tr>\n",
              "    <tr>\n",
              "      <th>3</th>\n",
              "      <td>False</td>\n",
              "      <td>NaN</td>\n",
              "      <td>16000000</td>\n",
              "      <td>[{'id': 35, 'name': 'Comedy'}, {'id': 18, 'nam...</td>\n",
              "      <td>NaN</td>\n",
              "      <td>31357</td>\n",
              "      <td>tt0114885</td>\n",
              "      <td>en</td>\n",
              "      <td>Waiting to Exhale</td>\n",
              "      <td>Cheated on, mistreated and stepped on, the wom...</td>\n",
              "      <td>...</td>\n",
              "      <td>1995-12-22</td>\n",
              "      <td>81452156.0</td>\n",
              "      <td>127.0</td>\n",
              "      <td>[{'iso_639_1': 'en', 'name': 'English'}]</td>\n",
              "      <td>Released</td>\n",
              "      <td>Friends are the people who let you be yourself...</td>\n",
              "      <td>Waiting to Exhale</td>\n",
              "      <td>False</td>\n",
              "      <td>6.1</td>\n",
              "      <td>34.0</td>\n",
              "    </tr>\n",
              "    <tr>\n",
              "      <th>4</th>\n",
              "      <td>False</td>\n",
              "      <td>{'id': 96871, 'name': 'Father of the Bride Col...</td>\n",
              "      <td>0</td>\n",
              "      <td>[{'id': 35, 'name': 'Comedy'}]</td>\n",
              "      <td>NaN</td>\n",
              "      <td>11862</td>\n",
              "      <td>tt0113041</td>\n",
              "      <td>en</td>\n",
              "      <td>Father of the Bride Part II</td>\n",
              "      <td>Just when George Banks has recovered from his ...</td>\n",
              "      <td>...</td>\n",
              "      <td>1995-02-10</td>\n",
              "      <td>76578911.0</td>\n",
              "      <td>106.0</td>\n",
              "      <td>[{'iso_639_1': 'en', 'name': 'English'}]</td>\n",
              "      <td>Released</td>\n",
              "      <td>Just When His World Is Back To Normal... He's ...</td>\n",
              "      <td>Father of the Bride Part II</td>\n",
              "      <td>False</td>\n",
              "      <td>5.7</td>\n",
              "      <td>173.0</td>\n",
              "    </tr>\n",
              "  </tbody>\n",
              "</table>\n",
              "<p>5 rows × 24 columns</p>\n",
              "</div>\n",
              "    <div class=\"colab-df-buttons\">\n",
              "\n",
              "  <div class=\"colab-df-container\">\n",
              "    <button class=\"colab-df-convert\" onclick=\"convertToInteractive('df-e6b1d3be-0d45-45a3-8e9c-8ad59f1f8609')\"\n",
              "            title=\"Convert this dataframe to an interactive table.\"\n",
              "            style=\"display:none;\">\n",
              "\n",
              "  <svg xmlns=\"http://www.w3.org/2000/svg\" height=\"24px\" viewBox=\"0 -960 960 960\">\n",
              "    <path d=\"M120-120v-720h720v720H120Zm60-500h600v-160H180v160Zm220 220h160v-160H400v160Zm0 220h160v-160H400v160ZM180-400h160v-160H180v160Zm440 0h160v-160H620v160ZM180-180h160v-160H180v160Zm440 0h160v-160H620v160Z\"/>\n",
              "  </svg>\n",
              "    </button>\n",
              "\n",
              "  <style>\n",
              "    .colab-df-container {\n",
              "      display:flex;\n",
              "      gap: 12px;\n",
              "    }\n",
              "\n",
              "    .colab-df-convert {\n",
              "      background-color: #E8F0FE;\n",
              "      border: none;\n",
              "      border-radius: 50%;\n",
              "      cursor: pointer;\n",
              "      display: none;\n",
              "      fill: #1967D2;\n",
              "      height: 32px;\n",
              "      padding: 0 0 0 0;\n",
              "      width: 32px;\n",
              "    }\n",
              "\n",
              "    .colab-df-convert:hover {\n",
              "      background-color: #E2EBFA;\n",
              "      box-shadow: 0px 1px 2px rgba(60, 64, 67, 0.3), 0px 1px 3px 1px rgba(60, 64, 67, 0.15);\n",
              "      fill: #174EA6;\n",
              "    }\n",
              "\n",
              "    .colab-df-buttons div {\n",
              "      margin-bottom: 4px;\n",
              "    }\n",
              "\n",
              "    [theme=dark] .colab-df-convert {\n",
              "      background-color: #3B4455;\n",
              "      fill: #D2E3FC;\n",
              "    }\n",
              "\n",
              "    [theme=dark] .colab-df-convert:hover {\n",
              "      background-color: #434B5C;\n",
              "      box-shadow: 0px 1px 3px 1px rgba(0, 0, 0, 0.15);\n",
              "      filter: drop-shadow(0px 1px 2px rgba(0, 0, 0, 0.3));\n",
              "      fill: #FFFFFF;\n",
              "    }\n",
              "  </style>\n",
              "\n",
              "    <script>\n",
              "      const buttonEl =\n",
              "        document.querySelector('#df-e6b1d3be-0d45-45a3-8e9c-8ad59f1f8609 button.colab-df-convert');\n",
              "      buttonEl.style.display =\n",
              "        google.colab.kernel.accessAllowed ? 'block' : 'none';\n",
              "\n",
              "      async function convertToInteractive(key) {\n",
              "        const element = document.querySelector('#df-e6b1d3be-0d45-45a3-8e9c-8ad59f1f8609');\n",
              "        const dataTable =\n",
              "          await google.colab.kernel.invokeFunction('convertToInteractive',\n",
              "                                                    [key], {});\n",
              "        if (!dataTable) return;\n",
              "\n",
              "        const docLinkHtml = 'Like what you see? Visit the ' +\n",
              "          '<a target=\"_blank\" href=https://colab.research.google.com/notebooks/data_table.ipynb>data table notebook</a>'\n",
              "          + ' to learn more about interactive tables.';\n",
              "        element.innerHTML = '';\n",
              "        dataTable['output_type'] = 'display_data';\n",
              "        await google.colab.output.renderOutput(dataTable, element);\n",
              "        const docLink = document.createElement('div');\n",
              "        docLink.innerHTML = docLinkHtml;\n",
              "        element.appendChild(docLink);\n",
              "      }\n",
              "    </script>\n",
              "  </div>\n",
              "\n",
              "\n",
              "<div id=\"df-1f128b5b-3270-44fe-8363-039f481d415d\">\n",
              "  <button class=\"colab-df-quickchart\" onclick=\"quickchart('df-1f128b5b-3270-44fe-8363-039f481d415d')\"\n",
              "            title=\"Suggest charts\"\n",
              "            style=\"display:none;\">\n",
              "\n",
              "<svg xmlns=\"http://www.w3.org/2000/svg\" height=\"24px\"viewBox=\"0 0 24 24\"\n",
              "     width=\"24px\">\n",
              "    <g>\n",
              "        <path d=\"M19 3H5c-1.1 0-2 .9-2 2v14c0 1.1.9 2 2 2h14c1.1 0 2-.9 2-2V5c0-1.1-.9-2-2-2zM9 17H7v-7h2v7zm4 0h-2V7h2v10zm4 0h-2v-4h2v4z\"/>\n",
              "    </g>\n",
              "</svg>\n",
              "  </button>\n",
              "\n",
              "<style>\n",
              "  .colab-df-quickchart {\n",
              "      --bg-color: #E8F0FE;\n",
              "      --fill-color: #1967D2;\n",
              "      --hover-bg-color: #E2EBFA;\n",
              "      --hover-fill-color: #174EA6;\n",
              "      --disabled-fill-color: #AAA;\n",
              "      --disabled-bg-color: #DDD;\n",
              "  }\n",
              "\n",
              "  [theme=dark] .colab-df-quickchart {\n",
              "      --bg-color: #3B4455;\n",
              "      --fill-color: #D2E3FC;\n",
              "      --hover-bg-color: #434B5C;\n",
              "      --hover-fill-color: #FFFFFF;\n",
              "      --disabled-bg-color: #3B4455;\n",
              "      --disabled-fill-color: #666;\n",
              "  }\n",
              "\n",
              "  .colab-df-quickchart {\n",
              "    background-color: var(--bg-color);\n",
              "    border: none;\n",
              "    border-radius: 50%;\n",
              "    cursor: pointer;\n",
              "    display: none;\n",
              "    fill: var(--fill-color);\n",
              "    height: 32px;\n",
              "    padding: 0;\n",
              "    width: 32px;\n",
              "  }\n",
              "\n",
              "  .colab-df-quickchart:hover {\n",
              "    background-color: var(--hover-bg-color);\n",
              "    box-shadow: 0 1px 2px rgba(60, 64, 67, 0.3), 0 1px 3px 1px rgba(60, 64, 67, 0.15);\n",
              "    fill: var(--button-hover-fill-color);\n",
              "  }\n",
              "\n",
              "  .colab-df-quickchart-complete:disabled,\n",
              "  .colab-df-quickchart-complete:disabled:hover {\n",
              "    background-color: var(--disabled-bg-color);\n",
              "    fill: var(--disabled-fill-color);\n",
              "    box-shadow: none;\n",
              "  }\n",
              "\n",
              "  .colab-df-spinner {\n",
              "    border: 2px solid var(--fill-color);\n",
              "    border-color: transparent;\n",
              "    border-bottom-color: var(--fill-color);\n",
              "    animation:\n",
              "      spin 1s steps(1) infinite;\n",
              "  }\n",
              "\n",
              "  @keyframes spin {\n",
              "    0% {\n",
              "      border-color: transparent;\n",
              "      border-bottom-color: var(--fill-color);\n",
              "      border-left-color: var(--fill-color);\n",
              "    }\n",
              "    20% {\n",
              "      border-color: transparent;\n",
              "      border-left-color: var(--fill-color);\n",
              "      border-top-color: var(--fill-color);\n",
              "    }\n",
              "    30% {\n",
              "      border-color: transparent;\n",
              "      border-left-color: var(--fill-color);\n",
              "      border-top-color: var(--fill-color);\n",
              "      border-right-color: var(--fill-color);\n",
              "    }\n",
              "    40% {\n",
              "      border-color: transparent;\n",
              "      border-right-color: var(--fill-color);\n",
              "      border-top-color: var(--fill-color);\n",
              "    }\n",
              "    60% {\n",
              "      border-color: transparent;\n",
              "      border-right-color: var(--fill-color);\n",
              "    }\n",
              "    80% {\n",
              "      border-color: transparent;\n",
              "      border-right-color: var(--fill-color);\n",
              "      border-bottom-color: var(--fill-color);\n",
              "    }\n",
              "    90% {\n",
              "      border-color: transparent;\n",
              "      border-bottom-color: var(--fill-color);\n",
              "    }\n",
              "  }\n",
              "</style>\n",
              "\n",
              "  <script>\n",
              "    async function quickchart(key) {\n",
              "      const quickchartButtonEl =\n",
              "        document.querySelector('#' + key + ' button');\n",
              "      quickchartButtonEl.disabled = true;  // To prevent multiple clicks.\n",
              "      quickchartButtonEl.classList.add('colab-df-spinner');\n",
              "      try {\n",
              "        const charts = await google.colab.kernel.invokeFunction(\n",
              "            'suggestCharts', [key], {});\n",
              "      } catch (error) {\n",
              "        console.error('Error during call to suggestCharts:', error);\n",
              "      }\n",
              "      quickchartButtonEl.classList.remove('colab-df-spinner');\n",
              "      quickchartButtonEl.classList.add('colab-df-quickchart-complete');\n",
              "    }\n",
              "    (() => {\n",
              "      let quickchartButtonEl =\n",
              "        document.querySelector('#df-1f128b5b-3270-44fe-8363-039f481d415d button');\n",
              "      quickchartButtonEl.style.display =\n",
              "        google.colab.kernel.accessAllowed ? 'block' : 'none';\n",
              "    })();\n",
              "  </script>\n",
              "</div>\n",
              "    </div>\n",
              "  </div>\n"
            ]
          },
          "metadata": {},
          "execution_count": 3
        }
      ],
      "source": [
        "#Lets Look at the data to see the content housed in the different columns.\n",
        "movieD.head()"
      ]
    },
    {
      "cell_type": "markdown",
      "metadata": {
        "id": "2tVyW7GW8Ep1"
      },
      "source": [
        " **Looking at the data , there are some columns that won't help in my prediction since they are either not numerical values/not reevant to prediction and would need to be dropped in order to have the suitable data for training**"
      ]
    },
    {
      "cell_type": "markdown",
      "metadata": {
        "id": "Fig8_astPhni"
      },
      "source": [
        "## EDA, Imputation and Encoding"
      ]
    },
    {
      "cell_type": "code",
      "execution_count": 4,
      "metadata": {
        "id": "T3zbJJor8Ajk"
      },
      "outputs": [],
      "source": [
        "#Lets drop the unecessary columns in dataset.\n",
        "movieD.drop(['id','belongs_to_collection', 'homepage', 'imdb_id', 'original_language', 'original_title', 'overview', 'poster_path', 'production_companies', 'production_countries', 'release_date', 'runtime','title', 'spoken_languages', 'status', 'tagline', 'video', 'adult'], axis=1, inplace=True)\n"
      ]
    },
    {
      "cell_type": "code",
      "execution_count": 5,
      "metadata": {
        "colab": {
          "base_uri": "https://localhost:8080/"
        },
        "id": "6ysYkRe39Ipd",
        "outputId": "2f892049-fe5e-49e5-961b-a4098fc44954"
      },
      "outputs": [
        {
          "output_type": "stream",
          "name": "stdout",
          "text": [
            "<class 'pandas.core.frame.DataFrame'>\n",
            "RangeIndex: 45466 entries, 0 to 45465\n",
            "Data columns (total 6 columns):\n",
            " #   Column        Non-Null Count  Dtype  \n",
            "---  ------        --------------  -----  \n",
            " 0   budget        45466 non-null  object \n",
            " 1   genres        45466 non-null  object \n",
            " 2   popularity    45461 non-null  object \n",
            " 3   revenue       45460 non-null  float64\n",
            " 4   vote_average  45460 non-null  float64\n",
            " 5   vote_count    45460 non-null  float64\n",
            "dtypes: float64(3), object(3)\n",
            "memory usage: 2.1+ MB\n"
          ]
        }
      ],
      "source": [
        "#Now lets look at the data, as you can see the dataset now houses only relevant to prediction data.\n",
        "movieD.info()"
      ]
    },
    {
      "cell_type": "code",
      "source": [
        "movieD.vote_count.max()"
      ],
      "metadata": {
        "colab": {
          "base_uri": "https://localhost:8080/"
        },
        "id": "VmWeJl8TuT9L",
        "outputId": "81e3d9ed-ba8f-4da5-e7ff-55c60c654a77"
      },
      "execution_count": 68,
      "outputs": [
        {
          "output_type": "execute_result",
          "data": {
            "text/plain": [
              "14075.0"
            ]
          },
          "metadata": {},
          "execution_count": 68
        }
      ]
    },
    {
      "cell_type": "code",
      "execution_count": 6,
      "metadata": {
        "colab": {
          "base_uri": "https://localhost:8080/"
        },
        "id": "sxpLYwRj-NW5",
        "outputId": "734ca2e6-7fb1-48cb-facd-3d8524f29b28"
      },
      "outputs": [
        {
          "output_type": "execute_result",
          "data": {
            "text/plain": [
              "(38052, 6)"
            ]
          },
          "metadata": {},
          "execution_count": 6
        }
      ],
      "source": [
        "#Checking how many rows in the Dataframe movieD have a value of 0 in the target variable column.\n",
        "\n",
        "movieD[movieD['revenue'] == 0].shape"
      ]
    },
    {
      "cell_type": "markdown",
      "metadata": {
        "id": "wzwbvlWmAKZx"
      },
      "source": [
        "There are 38,052 rows and 9 columns in the DataFrame where the 'revenue' column has a value equal to 0. This shows a significant portion of movies in the dataset has a recorded revenue of 0, suggesting a lack of information regarding their total earnings however since theres still 7,414 with revenue recorded, i'll just use those instead."
      ]
    },
    {
      "cell_type": "code",
      "execution_count": 7,
      "metadata": {
        "id": "DAwzr_uzB1r6"
      },
      "outputs": [],
      "source": [
        "#Replace all occurrences of the value 0 in the 'revenue' with Nan\n",
        "movieD['revenue'] = movieD['revenue'].replace(0, np.nan)"
      ]
    },
    {
      "cell_type": "code",
      "execution_count": 8,
      "metadata": {
        "colab": {
          "base_uri": "https://localhost:8080/"
        },
        "id": "lULjlOCeEdJi",
        "outputId": "a71cc845-2d2d-43a4-fa93-2cebeb066343"
      },
      "outputs": [
        {
          "output_type": "execute_result",
          "data": {
            "text/plain": [
              "(36576, 6)"
            ]
          },
          "metadata": {},
          "execution_count": 8
        }
      ],
      "source": [
        "#Clean Budget Similarly\n",
        "movieD['budget'] = pd.to_numeric(movieD['budget'], errors='coerce')\n",
        "movieD['budget'] = movieD['budget'].replace(0, np.nan)\n",
        "movieD[movieD['budget'].isnull()].shape\n"
      ]
    },
    {
      "cell_type": "markdown",
      "source": [
        "Now that The Revenue and Budget has been Cleaned and conflictng values have been dealt with, I can now create a new column named Success to use as a target variable later. This \"Success\" is defined as 'Success' if the profit margin is greater than 50%, 'loss' if the profit is negative, and again 'loss' if the profit is non-negative but less than 50%."
      ],
      "metadata": {
        "id": "_-pkEz0ClAu4"
      }
    },
    {
      "cell_type": "code",
      "execution_count": 10,
      "metadata": {
        "id": "OffSsu7Xv27_"
      },
      "outputs": [],
      "source": [
        "# Creating a New Feature To Show Financial Success of A Movie\n",
        "L=[]\n",
        "for i, rows in movieD.iterrows():\n",
        "  if((rows['revenue'] - rows['budget'])<0):\n",
        "    L.append('loss')\n",
        "  elif(((rows['revenue'] - rows['budget']) / rows['budget'])>0.5):\n",
        "    L.append('Success')\n",
        "  else:\n",
        "    L.append('loss')\n"
      ]
    },
    {
      "cell_type": "code",
      "execution_count": 11,
      "metadata": {
        "colab": {
          "base_uri": "https://localhost:8080/"
        },
        "id": "ombW723exJ1f",
        "outputId": "c5749ae7-0b9a-4f08-9fe0-c3aea0c6e984"
      },
      "outputs": [
        {
          "output_type": "execute_result",
          "data": {
            "text/plain": [
              "3198"
            ]
          },
          "metadata": {},
          "execution_count": 11
        }
      ],
      "source": [
        "L.count('Success') #now see number of successes"
      ]
    },
    {
      "cell_type": "code",
      "execution_count": 12,
      "metadata": {
        "colab": {
          "base_uri": "https://localhost:8080/"
        },
        "id": "UO1kLrYBxWyq",
        "outputId": "69cae5c0-0dcc-44c6-ccd5-2f97075eeca6"
      },
      "outputs": [
        {
          "output_type": "execute_result",
          "data": {
            "text/plain": [
              "42268"
            ]
          },
          "metadata": {},
          "execution_count": 12
        }
      ],
      "source": [
        "L.count('loss') #now see number of losses"
      ]
    },
    {
      "cell_type": "code",
      "execution_count": 13,
      "metadata": {
        "id": "jCk_C8SXv3Is"
      },
      "outputs": [],
      "source": [
        "movieD['Success']=L #The values of L are now created as a new column in movieD\n"
      ]
    },
    {
      "cell_type": "code",
      "execution_count": 14,
      "metadata": {
        "colab": {
          "base_uri": "https://localhost:8080/",
          "height": 206
        },
        "id": "ThZmmkCgxpPp",
        "outputId": "ab834c0a-86eb-47fa-aef7-3be9087c0fed"
      },
      "outputs": [
        {
          "output_type": "execute_result",
          "data": {
            "text/plain": [
              "       budget                                             genres popularity  \\\n",
              "0  30000000.0  [{'id': 16, 'name': 'Animation'}, {'id': 35, '...  21.946943   \n",
              "1  65000000.0  [{'id': 12, 'name': 'Adventure'}, {'id': 14, '...  17.015539   \n",
              "2         NaN  [{'id': 10749, 'name': 'Romance'}, {'id': 35, ...    11.7129   \n",
              "3  16000000.0  [{'id': 35, 'name': 'Comedy'}, {'id': 18, 'nam...   3.859495   \n",
              "4         NaN                     [{'id': 35, 'name': 'Comedy'}]   8.387519   \n",
              "\n",
              "       revenue  vote_average  vote_count  Success  \n",
              "0  373554033.0           7.7      5415.0  Success  \n",
              "1  262797249.0           6.9      2413.0  Success  \n",
              "2          NaN           6.5        92.0     loss  \n",
              "3   81452156.0           6.1        34.0  Success  \n",
              "4   76578911.0           5.7       173.0     loss  "
            ],
            "text/html": [
              "\n",
              "  <div id=\"df-9faee079-5cd5-40a4-a629-b851717dc3dd\" class=\"colab-df-container\">\n",
              "    <div>\n",
              "<style scoped>\n",
              "    .dataframe tbody tr th:only-of-type {\n",
              "        vertical-align: middle;\n",
              "    }\n",
              "\n",
              "    .dataframe tbody tr th {\n",
              "        vertical-align: top;\n",
              "    }\n",
              "\n",
              "    .dataframe thead th {\n",
              "        text-align: right;\n",
              "    }\n",
              "</style>\n",
              "<table border=\"1\" class=\"dataframe\">\n",
              "  <thead>\n",
              "    <tr style=\"text-align: right;\">\n",
              "      <th></th>\n",
              "      <th>budget</th>\n",
              "      <th>genres</th>\n",
              "      <th>popularity</th>\n",
              "      <th>revenue</th>\n",
              "      <th>vote_average</th>\n",
              "      <th>vote_count</th>\n",
              "      <th>Success</th>\n",
              "    </tr>\n",
              "  </thead>\n",
              "  <tbody>\n",
              "    <tr>\n",
              "      <th>0</th>\n",
              "      <td>30000000.0</td>\n",
              "      <td>[{'id': 16, 'name': 'Animation'}, {'id': 35, '...</td>\n",
              "      <td>21.946943</td>\n",
              "      <td>373554033.0</td>\n",
              "      <td>7.7</td>\n",
              "      <td>5415.0</td>\n",
              "      <td>Success</td>\n",
              "    </tr>\n",
              "    <tr>\n",
              "      <th>1</th>\n",
              "      <td>65000000.0</td>\n",
              "      <td>[{'id': 12, 'name': 'Adventure'}, {'id': 14, '...</td>\n",
              "      <td>17.015539</td>\n",
              "      <td>262797249.0</td>\n",
              "      <td>6.9</td>\n",
              "      <td>2413.0</td>\n",
              "      <td>Success</td>\n",
              "    </tr>\n",
              "    <tr>\n",
              "      <th>2</th>\n",
              "      <td>NaN</td>\n",
              "      <td>[{'id': 10749, 'name': 'Romance'}, {'id': 35, ...</td>\n",
              "      <td>11.7129</td>\n",
              "      <td>NaN</td>\n",
              "      <td>6.5</td>\n",
              "      <td>92.0</td>\n",
              "      <td>loss</td>\n",
              "    </tr>\n",
              "    <tr>\n",
              "      <th>3</th>\n",
              "      <td>16000000.0</td>\n",
              "      <td>[{'id': 35, 'name': 'Comedy'}, {'id': 18, 'nam...</td>\n",
              "      <td>3.859495</td>\n",
              "      <td>81452156.0</td>\n",
              "      <td>6.1</td>\n",
              "      <td>34.0</td>\n",
              "      <td>Success</td>\n",
              "    </tr>\n",
              "    <tr>\n",
              "      <th>4</th>\n",
              "      <td>NaN</td>\n",
              "      <td>[{'id': 35, 'name': 'Comedy'}]</td>\n",
              "      <td>8.387519</td>\n",
              "      <td>76578911.0</td>\n",
              "      <td>5.7</td>\n",
              "      <td>173.0</td>\n",
              "      <td>loss</td>\n",
              "    </tr>\n",
              "  </tbody>\n",
              "</table>\n",
              "</div>\n",
              "    <div class=\"colab-df-buttons\">\n",
              "\n",
              "  <div class=\"colab-df-container\">\n",
              "    <button class=\"colab-df-convert\" onclick=\"convertToInteractive('df-9faee079-5cd5-40a4-a629-b851717dc3dd')\"\n",
              "            title=\"Convert this dataframe to an interactive table.\"\n",
              "            style=\"display:none;\">\n",
              "\n",
              "  <svg xmlns=\"http://www.w3.org/2000/svg\" height=\"24px\" viewBox=\"0 -960 960 960\">\n",
              "    <path d=\"M120-120v-720h720v720H120Zm60-500h600v-160H180v160Zm220 220h160v-160H400v160Zm0 220h160v-160H400v160ZM180-400h160v-160H180v160Zm440 0h160v-160H620v160ZM180-180h160v-160H180v160Zm440 0h160v-160H620v160Z\"/>\n",
              "  </svg>\n",
              "    </button>\n",
              "\n",
              "  <style>\n",
              "    .colab-df-container {\n",
              "      display:flex;\n",
              "      gap: 12px;\n",
              "    }\n",
              "\n",
              "    .colab-df-convert {\n",
              "      background-color: #E8F0FE;\n",
              "      border: none;\n",
              "      border-radius: 50%;\n",
              "      cursor: pointer;\n",
              "      display: none;\n",
              "      fill: #1967D2;\n",
              "      height: 32px;\n",
              "      padding: 0 0 0 0;\n",
              "      width: 32px;\n",
              "    }\n",
              "\n",
              "    .colab-df-convert:hover {\n",
              "      background-color: #E2EBFA;\n",
              "      box-shadow: 0px 1px 2px rgba(60, 64, 67, 0.3), 0px 1px 3px 1px rgba(60, 64, 67, 0.15);\n",
              "      fill: #174EA6;\n",
              "    }\n",
              "\n",
              "    .colab-df-buttons div {\n",
              "      margin-bottom: 4px;\n",
              "    }\n",
              "\n",
              "    [theme=dark] .colab-df-convert {\n",
              "      background-color: #3B4455;\n",
              "      fill: #D2E3FC;\n",
              "    }\n",
              "\n",
              "    [theme=dark] .colab-df-convert:hover {\n",
              "      background-color: #434B5C;\n",
              "      box-shadow: 0px 1px 3px 1px rgba(0, 0, 0, 0.15);\n",
              "      filter: drop-shadow(0px 1px 2px rgba(0, 0, 0, 0.3));\n",
              "      fill: #FFFFFF;\n",
              "    }\n",
              "  </style>\n",
              "\n",
              "    <script>\n",
              "      const buttonEl =\n",
              "        document.querySelector('#df-9faee079-5cd5-40a4-a629-b851717dc3dd button.colab-df-convert');\n",
              "      buttonEl.style.display =\n",
              "        google.colab.kernel.accessAllowed ? 'block' : 'none';\n",
              "\n",
              "      async function convertToInteractive(key) {\n",
              "        const element = document.querySelector('#df-9faee079-5cd5-40a4-a629-b851717dc3dd');\n",
              "        const dataTable =\n",
              "          await google.colab.kernel.invokeFunction('convertToInteractive',\n",
              "                                                    [key], {});\n",
              "        if (!dataTable) return;\n",
              "\n",
              "        const docLinkHtml = 'Like what you see? Visit the ' +\n",
              "          '<a target=\"_blank\" href=https://colab.research.google.com/notebooks/data_table.ipynb>data table notebook</a>'\n",
              "          + ' to learn more about interactive tables.';\n",
              "        element.innerHTML = '';\n",
              "        dataTable['output_type'] = 'display_data';\n",
              "        await google.colab.output.renderOutput(dataTable, element);\n",
              "        const docLink = document.createElement('div');\n",
              "        docLink.innerHTML = docLinkHtml;\n",
              "        element.appendChild(docLink);\n",
              "      }\n",
              "    </script>\n",
              "  </div>\n",
              "\n",
              "\n",
              "<div id=\"df-588cbb04-673d-4d9a-829a-25dffd76b991\">\n",
              "  <button class=\"colab-df-quickchart\" onclick=\"quickchart('df-588cbb04-673d-4d9a-829a-25dffd76b991')\"\n",
              "            title=\"Suggest charts\"\n",
              "            style=\"display:none;\">\n",
              "\n",
              "<svg xmlns=\"http://www.w3.org/2000/svg\" height=\"24px\"viewBox=\"0 0 24 24\"\n",
              "     width=\"24px\">\n",
              "    <g>\n",
              "        <path d=\"M19 3H5c-1.1 0-2 .9-2 2v14c0 1.1.9 2 2 2h14c1.1 0 2-.9 2-2V5c0-1.1-.9-2-2-2zM9 17H7v-7h2v7zm4 0h-2V7h2v10zm4 0h-2v-4h2v4z\"/>\n",
              "    </g>\n",
              "</svg>\n",
              "  </button>\n",
              "\n",
              "<style>\n",
              "  .colab-df-quickchart {\n",
              "      --bg-color: #E8F0FE;\n",
              "      --fill-color: #1967D2;\n",
              "      --hover-bg-color: #E2EBFA;\n",
              "      --hover-fill-color: #174EA6;\n",
              "      --disabled-fill-color: #AAA;\n",
              "      --disabled-bg-color: #DDD;\n",
              "  }\n",
              "\n",
              "  [theme=dark] .colab-df-quickchart {\n",
              "      --bg-color: #3B4455;\n",
              "      --fill-color: #D2E3FC;\n",
              "      --hover-bg-color: #434B5C;\n",
              "      --hover-fill-color: #FFFFFF;\n",
              "      --disabled-bg-color: #3B4455;\n",
              "      --disabled-fill-color: #666;\n",
              "  }\n",
              "\n",
              "  .colab-df-quickchart {\n",
              "    background-color: var(--bg-color);\n",
              "    border: none;\n",
              "    border-radius: 50%;\n",
              "    cursor: pointer;\n",
              "    display: none;\n",
              "    fill: var(--fill-color);\n",
              "    height: 32px;\n",
              "    padding: 0;\n",
              "    width: 32px;\n",
              "  }\n",
              "\n",
              "  .colab-df-quickchart:hover {\n",
              "    background-color: var(--hover-bg-color);\n",
              "    box-shadow: 0 1px 2px rgba(60, 64, 67, 0.3), 0 1px 3px 1px rgba(60, 64, 67, 0.15);\n",
              "    fill: var(--button-hover-fill-color);\n",
              "  }\n",
              "\n",
              "  .colab-df-quickchart-complete:disabled,\n",
              "  .colab-df-quickchart-complete:disabled:hover {\n",
              "    background-color: var(--disabled-bg-color);\n",
              "    fill: var(--disabled-fill-color);\n",
              "    box-shadow: none;\n",
              "  }\n",
              "\n",
              "  .colab-df-spinner {\n",
              "    border: 2px solid var(--fill-color);\n",
              "    border-color: transparent;\n",
              "    border-bottom-color: var(--fill-color);\n",
              "    animation:\n",
              "      spin 1s steps(1) infinite;\n",
              "  }\n",
              "\n",
              "  @keyframes spin {\n",
              "    0% {\n",
              "      border-color: transparent;\n",
              "      border-bottom-color: var(--fill-color);\n",
              "      border-left-color: var(--fill-color);\n",
              "    }\n",
              "    20% {\n",
              "      border-color: transparent;\n",
              "      border-left-color: var(--fill-color);\n",
              "      border-top-color: var(--fill-color);\n",
              "    }\n",
              "    30% {\n",
              "      border-color: transparent;\n",
              "      border-left-color: var(--fill-color);\n",
              "      border-top-color: var(--fill-color);\n",
              "      border-right-color: var(--fill-color);\n",
              "    }\n",
              "    40% {\n",
              "      border-color: transparent;\n",
              "      border-right-color: var(--fill-color);\n",
              "      border-top-color: var(--fill-color);\n",
              "    }\n",
              "    60% {\n",
              "      border-color: transparent;\n",
              "      border-right-color: var(--fill-color);\n",
              "    }\n",
              "    80% {\n",
              "      border-color: transparent;\n",
              "      border-right-color: var(--fill-color);\n",
              "      border-bottom-color: var(--fill-color);\n",
              "    }\n",
              "    90% {\n",
              "      border-color: transparent;\n",
              "      border-bottom-color: var(--fill-color);\n",
              "    }\n",
              "  }\n",
              "</style>\n",
              "\n",
              "  <script>\n",
              "    async function quickchart(key) {\n",
              "      const quickchartButtonEl =\n",
              "        document.querySelector('#' + key + ' button');\n",
              "      quickchartButtonEl.disabled = true;  // To prevent multiple clicks.\n",
              "      quickchartButtonEl.classList.add('colab-df-spinner');\n",
              "      try {\n",
              "        const charts = await google.colab.kernel.invokeFunction(\n",
              "            'suggestCharts', [key], {});\n",
              "      } catch (error) {\n",
              "        console.error('Error during call to suggestCharts:', error);\n",
              "      }\n",
              "      quickchartButtonEl.classList.remove('colab-df-spinner');\n",
              "      quickchartButtonEl.classList.add('colab-df-quickchart-complete');\n",
              "    }\n",
              "    (() => {\n",
              "      let quickchartButtonEl =\n",
              "        document.querySelector('#df-588cbb04-673d-4d9a-829a-25dffd76b991 button');\n",
              "      quickchartButtonEl.style.display =\n",
              "        google.colab.kernel.accessAllowed ? 'block' : 'none';\n",
              "    })();\n",
              "  </script>\n",
              "</div>\n",
              "    </div>\n",
              "  </div>\n"
            ]
          },
          "metadata": {},
          "execution_count": 14
        }
      ],
      "source": [
        "movieD.head() # Now lets quickly inspect the contents of movieD to see the changes."
      ]
    },
    {
      "cell_type": "code",
      "execution_count": 15,
      "metadata": {
        "colab": {
          "base_uri": "https://localhost:8080/"
        },
        "id": "yxvOp4bgx-RA",
        "outputId": "ecb843d3-8682-49d6-d151-616261fbbbfc"
      },
      "outputs": [
        {
          "output_type": "stream",
          "name": "stdout",
          "text": [
            "<class 'pandas.core.frame.DataFrame'>\n",
            "RangeIndex: 45466 entries, 0 to 45465\n",
            "Data columns (total 7 columns):\n",
            " #   Column        Non-Null Count  Dtype  \n",
            "---  ------        --------------  -----  \n",
            " 0   budget        8890 non-null   float64\n",
            " 1   genres        45466 non-null  object \n",
            " 2   popularity    45461 non-null  object \n",
            " 3   revenue       7408 non-null   float64\n",
            " 4   vote_average  45460 non-null  float64\n",
            " 5   vote_count    45460 non-null  float64\n",
            " 6   Success       45466 non-null  object \n",
            "dtypes: float64(4), object(3)\n",
            "memory usage: 2.4+ MB\n"
          ]
        }
      ],
      "source": [
        "movieD.info() #lets see a summary of all the columns"
      ]
    },
    {
      "cell_type": "markdown",
      "source": [
        "Feature importance isnt necessary since 7 columns remain when unneccesary columns have already been removed.Also now we need to deal with the non numerical columns like Success, popularity and genres and the best way to do that is to encode and impute if need be."
      ],
      "metadata": {
        "id": "C0seQXGznN4W"
      }
    },
    {
      "cell_type": "code",
      "execution_count": 16,
      "metadata": {
        "id": "Nc_G12WPyKUF"
      },
      "outputs": [],
      "source": [
        "movieD['Success'],_=pd.factorize(movieD['Success']) #encode the categorical variable in the 'Success' column into numerical format"
      ]
    },
    {
      "cell_type": "code",
      "execution_count": 17,
      "metadata": {
        "colab": {
          "base_uri": "https://localhost:8080/",
          "height": 206
        },
        "id": "7HgOKraKyTyV",
        "outputId": "7d8bd75b-f3fc-401f-d55c-ab49c8e37530"
      },
      "outputs": [
        {
          "output_type": "execute_result",
          "data": {
            "text/plain": [
              "       budget                                             genres popularity  \\\n",
              "0  30000000.0  [{'id': 16, 'name': 'Animation'}, {'id': 35, '...  21.946943   \n",
              "1  65000000.0  [{'id': 12, 'name': 'Adventure'}, {'id': 14, '...  17.015539   \n",
              "2         NaN  [{'id': 10749, 'name': 'Romance'}, {'id': 35, ...    11.7129   \n",
              "3  16000000.0  [{'id': 35, 'name': 'Comedy'}, {'id': 18, 'nam...   3.859495   \n",
              "4         NaN                     [{'id': 35, 'name': 'Comedy'}]   8.387519   \n",
              "\n",
              "       revenue  vote_average  vote_count  Success  \n",
              "0  373554033.0           7.7      5415.0        0  \n",
              "1  262797249.0           6.9      2413.0        0  \n",
              "2          NaN           6.5        92.0        1  \n",
              "3   81452156.0           6.1        34.0        0  \n",
              "4   76578911.0           5.7       173.0        1  "
            ],
            "text/html": [
              "\n",
              "  <div id=\"df-b954c9af-38e0-431d-b9a7-e62d385b16dc\" class=\"colab-df-container\">\n",
              "    <div>\n",
              "<style scoped>\n",
              "    .dataframe tbody tr th:only-of-type {\n",
              "        vertical-align: middle;\n",
              "    }\n",
              "\n",
              "    .dataframe tbody tr th {\n",
              "        vertical-align: top;\n",
              "    }\n",
              "\n",
              "    .dataframe thead th {\n",
              "        text-align: right;\n",
              "    }\n",
              "</style>\n",
              "<table border=\"1\" class=\"dataframe\">\n",
              "  <thead>\n",
              "    <tr style=\"text-align: right;\">\n",
              "      <th></th>\n",
              "      <th>budget</th>\n",
              "      <th>genres</th>\n",
              "      <th>popularity</th>\n",
              "      <th>revenue</th>\n",
              "      <th>vote_average</th>\n",
              "      <th>vote_count</th>\n",
              "      <th>Success</th>\n",
              "    </tr>\n",
              "  </thead>\n",
              "  <tbody>\n",
              "    <tr>\n",
              "      <th>0</th>\n",
              "      <td>30000000.0</td>\n",
              "      <td>[{'id': 16, 'name': 'Animation'}, {'id': 35, '...</td>\n",
              "      <td>21.946943</td>\n",
              "      <td>373554033.0</td>\n",
              "      <td>7.7</td>\n",
              "      <td>5415.0</td>\n",
              "      <td>0</td>\n",
              "    </tr>\n",
              "    <tr>\n",
              "      <th>1</th>\n",
              "      <td>65000000.0</td>\n",
              "      <td>[{'id': 12, 'name': 'Adventure'}, {'id': 14, '...</td>\n",
              "      <td>17.015539</td>\n",
              "      <td>262797249.0</td>\n",
              "      <td>6.9</td>\n",
              "      <td>2413.0</td>\n",
              "      <td>0</td>\n",
              "    </tr>\n",
              "    <tr>\n",
              "      <th>2</th>\n",
              "      <td>NaN</td>\n",
              "      <td>[{'id': 10749, 'name': 'Romance'}, {'id': 35, ...</td>\n",
              "      <td>11.7129</td>\n",
              "      <td>NaN</td>\n",
              "      <td>6.5</td>\n",
              "      <td>92.0</td>\n",
              "      <td>1</td>\n",
              "    </tr>\n",
              "    <tr>\n",
              "      <th>3</th>\n",
              "      <td>16000000.0</td>\n",
              "      <td>[{'id': 35, 'name': 'Comedy'}, {'id': 18, 'nam...</td>\n",
              "      <td>3.859495</td>\n",
              "      <td>81452156.0</td>\n",
              "      <td>6.1</td>\n",
              "      <td>34.0</td>\n",
              "      <td>0</td>\n",
              "    </tr>\n",
              "    <tr>\n",
              "      <th>4</th>\n",
              "      <td>NaN</td>\n",
              "      <td>[{'id': 35, 'name': 'Comedy'}]</td>\n",
              "      <td>8.387519</td>\n",
              "      <td>76578911.0</td>\n",
              "      <td>5.7</td>\n",
              "      <td>173.0</td>\n",
              "      <td>1</td>\n",
              "    </tr>\n",
              "  </tbody>\n",
              "</table>\n",
              "</div>\n",
              "    <div class=\"colab-df-buttons\">\n",
              "\n",
              "  <div class=\"colab-df-container\">\n",
              "    <button class=\"colab-df-convert\" onclick=\"convertToInteractive('df-b954c9af-38e0-431d-b9a7-e62d385b16dc')\"\n",
              "            title=\"Convert this dataframe to an interactive table.\"\n",
              "            style=\"display:none;\">\n",
              "\n",
              "  <svg xmlns=\"http://www.w3.org/2000/svg\" height=\"24px\" viewBox=\"0 -960 960 960\">\n",
              "    <path d=\"M120-120v-720h720v720H120Zm60-500h600v-160H180v160Zm220 220h160v-160H400v160Zm0 220h160v-160H400v160ZM180-400h160v-160H180v160Zm440 0h160v-160H620v160ZM180-180h160v-160H180v160Zm440 0h160v-160H620v160Z\"/>\n",
              "  </svg>\n",
              "    </button>\n",
              "\n",
              "  <style>\n",
              "    .colab-df-container {\n",
              "      display:flex;\n",
              "      gap: 12px;\n",
              "    }\n",
              "\n",
              "    .colab-df-convert {\n",
              "      background-color: #E8F0FE;\n",
              "      border: none;\n",
              "      border-radius: 50%;\n",
              "      cursor: pointer;\n",
              "      display: none;\n",
              "      fill: #1967D2;\n",
              "      height: 32px;\n",
              "      padding: 0 0 0 0;\n",
              "      width: 32px;\n",
              "    }\n",
              "\n",
              "    .colab-df-convert:hover {\n",
              "      background-color: #E2EBFA;\n",
              "      box-shadow: 0px 1px 2px rgba(60, 64, 67, 0.3), 0px 1px 3px 1px rgba(60, 64, 67, 0.15);\n",
              "      fill: #174EA6;\n",
              "    }\n",
              "\n",
              "    .colab-df-buttons div {\n",
              "      margin-bottom: 4px;\n",
              "    }\n",
              "\n",
              "    [theme=dark] .colab-df-convert {\n",
              "      background-color: #3B4455;\n",
              "      fill: #D2E3FC;\n",
              "    }\n",
              "\n",
              "    [theme=dark] .colab-df-convert:hover {\n",
              "      background-color: #434B5C;\n",
              "      box-shadow: 0px 1px 3px 1px rgba(0, 0, 0, 0.15);\n",
              "      filter: drop-shadow(0px 1px 2px rgba(0, 0, 0, 0.3));\n",
              "      fill: #FFFFFF;\n",
              "    }\n",
              "  </style>\n",
              "\n",
              "    <script>\n",
              "      const buttonEl =\n",
              "        document.querySelector('#df-b954c9af-38e0-431d-b9a7-e62d385b16dc button.colab-df-convert');\n",
              "      buttonEl.style.display =\n",
              "        google.colab.kernel.accessAllowed ? 'block' : 'none';\n",
              "\n",
              "      async function convertToInteractive(key) {\n",
              "        const element = document.querySelector('#df-b954c9af-38e0-431d-b9a7-e62d385b16dc');\n",
              "        const dataTable =\n",
              "          await google.colab.kernel.invokeFunction('convertToInteractive',\n",
              "                                                    [key], {});\n",
              "        if (!dataTable) return;\n",
              "\n",
              "        const docLinkHtml = 'Like what you see? Visit the ' +\n",
              "          '<a target=\"_blank\" href=https://colab.research.google.com/notebooks/data_table.ipynb>data table notebook</a>'\n",
              "          + ' to learn more about interactive tables.';\n",
              "        element.innerHTML = '';\n",
              "        dataTable['output_type'] = 'display_data';\n",
              "        await google.colab.output.renderOutput(dataTable, element);\n",
              "        const docLink = document.createElement('div');\n",
              "        docLink.innerHTML = docLinkHtml;\n",
              "        element.appendChild(docLink);\n",
              "      }\n",
              "    </script>\n",
              "  </div>\n",
              "\n",
              "\n",
              "<div id=\"df-6fdca0f5-b872-40ef-90c0-5807783410d4\">\n",
              "  <button class=\"colab-df-quickchart\" onclick=\"quickchart('df-6fdca0f5-b872-40ef-90c0-5807783410d4')\"\n",
              "            title=\"Suggest charts\"\n",
              "            style=\"display:none;\">\n",
              "\n",
              "<svg xmlns=\"http://www.w3.org/2000/svg\" height=\"24px\"viewBox=\"0 0 24 24\"\n",
              "     width=\"24px\">\n",
              "    <g>\n",
              "        <path d=\"M19 3H5c-1.1 0-2 .9-2 2v14c0 1.1.9 2 2 2h14c1.1 0 2-.9 2-2V5c0-1.1-.9-2-2-2zM9 17H7v-7h2v7zm4 0h-2V7h2v10zm4 0h-2v-4h2v4z\"/>\n",
              "    </g>\n",
              "</svg>\n",
              "  </button>\n",
              "\n",
              "<style>\n",
              "  .colab-df-quickchart {\n",
              "      --bg-color: #E8F0FE;\n",
              "      --fill-color: #1967D2;\n",
              "      --hover-bg-color: #E2EBFA;\n",
              "      --hover-fill-color: #174EA6;\n",
              "      --disabled-fill-color: #AAA;\n",
              "      --disabled-bg-color: #DDD;\n",
              "  }\n",
              "\n",
              "  [theme=dark] .colab-df-quickchart {\n",
              "      --bg-color: #3B4455;\n",
              "      --fill-color: #D2E3FC;\n",
              "      --hover-bg-color: #434B5C;\n",
              "      --hover-fill-color: #FFFFFF;\n",
              "      --disabled-bg-color: #3B4455;\n",
              "      --disabled-fill-color: #666;\n",
              "  }\n",
              "\n",
              "  .colab-df-quickchart {\n",
              "    background-color: var(--bg-color);\n",
              "    border: none;\n",
              "    border-radius: 50%;\n",
              "    cursor: pointer;\n",
              "    display: none;\n",
              "    fill: var(--fill-color);\n",
              "    height: 32px;\n",
              "    padding: 0;\n",
              "    width: 32px;\n",
              "  }\n",
              "\n",
              "  .colab-df-quickchart:hover {\n",
              "    background-color: var(--hover-bg-color);\n",
              "    box-shadow: 0 1px 2px rgba(60, 64, 67, 0.3), 0 1px 3px 1px rgba(60, 64, 67, 0.15);\n",
              "    fill: var(--button-hover-fill-color);\n",
              "  }\n",
              "\n",
              "  .colab-df-quickchart-complete:disabled,\n",
              "  .colab-df-quickchart-complete:disabled:hover {\n",
              "    background-color: var(--disabled-bg-color);\n",
              "    fill: var(--disabled-fill-color);\n",
              "    box-shadow: none;\n",
              "  }\n",
              "\n",
              "  .colab-df-spinner {\n",
              "    border: 2px solid var(--fill-color);\n",
              "    border-color: transparent;\n",
              "    border-bottom-color: var(--fill-color);\n",
              "    animation:\n",
              "      spin 1s steps(1) infinite;\n",
              "  }\n",
              "\n",
              "  @keyframes spin {\n",
              "    0% {\n",
              "      border-color: transparent;\n",
              "      border-bottom-color: var(--fill-color);\n",
              "      border-left-color: var(--fill-color);\n",
              "    }\n",
              "    20% {\n",
              "      border-color: transparent;\n",
              "      border-left-color: var(--fill-color);\n",
              "      border-top-color: var(--fill-color);\n",
              "    }\n",
              "    30% {\n",
              "      border-color: transparent;\n",
              "      border-left-color: var(--fill-color);\n",
              "      border-top-color: var(--fill-color);\n",
              "      border-right-color: var(--fill-color);\n",
              "    }\n",
              "    40% {\n",
              "      border-color: transparent;\n",
              "      border-right-color: var(--fill-color);\n",
              "      border-top-color: var(--fill-color);\n",
              "    }\n",
              "    60% {\n",
              "      border-color: transparent;\n",
              "      border-right-color: var(--fill-color);\n",
              "    }\n",
              "    80% {\n",
              "      border-color: transparent;\n",
              "      border-right-color: var(--fill-color);\n",
              "      border-bottom-color: var(--fill-color);\n",
              "    }\n",
              "    90% {\n",
              "      border-color: transparent;\n",
              "      border-bottom-color: var(--fill-color);\n",
              "    }\n",
              "  }\n",
              "</style>\n",
              "\n",
              "  <script>\n",
              "    async function quickchart(key) {\n",
              "      const quickchartButtonEl =\n",
              "        document.querySelector('#' + key + ' button');\n",
              "      quickchartButtonEl.disabled = true;  // To prevent multiple clicks.\n",
              "      quickchartButtonEl.classList.add('colab-df-spinner');\n",
              "      try {\n",
              "        const charts = await google.colab.kernel.invokeFunction(\n",
              "            'suggestCharts', [key], {});\n",
              "      } catch (error) {\n",
              "        console.error('Error during call to suggestCharts:', error);\n",
              "      }\n",
              "      quickchartButtonEl.classList.remove('colab-df-spinner');\n",
              "      quickchartButtonEl.classList.add('colab-df-quickchart-complete');\n",
              "    }\n",
              "    (() => {\n",
              "      let quickchartButtonEl =\n",
              "        document.querySelector('#df-6fdca0f5-b872-40ef-90c0-5807783410d4 button');\n",
              "      quickchartButtonEl.style.display =\n",
              "        google.colab.kernel.accessAllowed ? 'block' : 'none';\n",
              "    })();\n",
              "  </script>\n",
              "</div>\n",
              "    </div>\n",
              "  </div>\n"
            ]
          },
          "metadata": {},
          "execution_count": 17
        }
      ],
      "source": [
        "movieD.head() #lets see changes"
      ]
    },
    {
      "cell_type": "code",
      "execution_count": 18,
      "metadata": {
        "colab": {
          "base_uri": "https://localhost:8080/"
        },
        "id": "V95IhatRJO9y",
        "outputId": "737bf387-4366-4dd1-cca8-266fb81dd3a6"
      },
      "outputs": [
        {
          "output_type": "stream",
          "name": "stdout",
          "text": [
            "<class 'pandas.core.frame.DataFrame'>\n",
            "RangeIndex: 45466 entries, 0 to 45465\n",
            "Data columns (total 7 columns):\n",
            " #   Column        Non-Null Count  Dtype  \n",
            "---  ------        --------------  -----  \n",
            " 0   budget        8890 non-null   float64\n",
            " 1   genres        45466 non-null  object \n",
            " 2   popularity    45461 non-null  object \n",
            " 3   revenue       7408 non-null   float64\n",
            " 4   vote_average  45460 non-null  float64\n",
            " 5   vote_count    45460 non-null  float64\n",
            " 6   Success       45466 non-null  int64  \n",
            "dtypes: float64(4), int64(1), object(2)\n",
            "memory usage: 2.4+ MB\n"
          ]
        }
      ],
      "source": [
        "movieD.info() #now its left with genres and popularity\n"
      ]
    },
    {
      "cell_type": "markdown",
      "metadata": {
        "id": "h7ZbqbH7JE1N"
      },
      "source": [
        "Now that Success has been dealt with, we now have to encode genres and clean popularity"
      ]
    },
    {
      "cell_type": "markdown",
      "source": [
        "Now lets be cleaning and converting certain columns to a numeric (float) data type."
      ],
      "metadata": {
        "id": "-AQkTl5YpCnm"
      }
    },
    {
      "cell_type": "markdown",
      "metadata": {
        "id": "W5qpfBl9uNfT"
      },
      "source": [
        "## Visualization & Cleaning Adjustments"
      ]
    },
    {
      "cell_type": "code",
      "execution_count": 22,
      "metadata": {
        "id": "SIHgOpB0KW-1"
      },
      "outputs": [],
      "source": [
        "#Converts a value x to a float.If the conversion is successful, it returns the float value.Otherwise, returns Nan\n",
        "def clean_numeric(x):\n",
        "    try:\n",
        "        return float(x)\n",
        "    except:\n",
        "        return np.nan"
      ]
    },
    {
      "cell_type": "code",
      "execution_count": 23,
      "metadata": {
        "id": "4U0wKSgdO3t-"
      },
      "outputs": [],
      "source": [
        "#Now Apply This Rule To The Relevant Features\n",
        "movieD['popularity'] = movieD['popularity'].apply(clean_numeric).astype('float')\n",
        "movieD[\"vote_count\"] = movieD[\"vote_count\"].apply(clean_numeric).astype('float')\n",
        "movieD['vote_average'] = movieD['vote_average'].apply(clean_numeric).astype('float')"
      ]
    },
    {
      "cell_type": "markdown",
      "source": [
        "The goal is to ensure that these columns contain numeric values in a format that can be used for numerical operations or machine learning tasks."
      ],
      "metadata": {
        "id": "kDJwdnuboy-X"
      }
    },
    {
      "cell_type": "code",
      "execution_count": 24,
      "metadata": {
        "colab": {
          "base_uri": "https://localhost:8080/"
        },
        "id": "LooZAed5PWH0",
        "outputId": "ca716190-76be-4124-d809-e88737c50bb7"
      },
      "outputs": [
        {
          "output_type": "execute_result",
          "data": {
            "text/plain": [
              "count    45460.000000\n",
              "mean         2.921478\n",
              "std          6.005414\n",
              "min          0.000000\n",
              "25%          0.385948\n",
              "50%          1.127685\n",
              "75%          3.678902\n",
              "max        547.488298\n",
              "Name: popularity, dtype: float64"
            ]
          },
          "metadata": {},
          "execution_count": 24
        }
      ],
      "source": [
        "#Summary statistics of each feature (As you can see popularity has been changed to floats)\n",
        "movieD['popularity'].describe()\n",
        "\n"
      ]
    },
    {
      "cell_type": "code",
      "execution_count": 25,
      "metadata": {
        "colab": {
          "base_uri": "https://localhost:8080/"
        },
        "id": "0VhhgiIOPx2R",
        "outputId": "1c5cce06-23d5-40b2-93ee-7b670e6223d7"
      },
      "outputs": [
        {
          "output_type": "execute_result",
          "data": {
            "text/plain": [
              "count    45460.000000\n",
              "mean       109.897338\n",
              "std        491.310374\n",
              "min          0.000000\n",
              "25%          3.000000\n",
              "50%         10.000000\n",
              "75%         34.000000\n",
              "max      14075.000000\n",
              "Name: vote_count, dtype: float64"
            ]
          },
          "metadata": {},
          "execution_count": 25
        }
      ],
      "source": [
        "movieD['vote_count'].describe()"
      ]
    },
    {
      "cell_type": "code",
      "execution_count": 26,
      "metadata": {
        "colab": {
          "base_uri": "https://localhost:8080/"
        },
        "id": "nUjUqcXgP053",
        "outputId": "d8a9b925-a9c0-4203-801b-c0d836cbcdad"
      },
      "outputs": [
        {
          "output_type": "execute_result",
          "data": {
            "text/plain": [
              "count    45460.000000\n",
              "mean         5.618207\n",
              "std          1.924216\n",
              "min          0.000000\n",
              "25%          5.000000\n",
              "50%          6.000000\n",
              "75%          6.800000\n",
              "max         10.000000\n",
              "Name: vote_average, dtype: float64"
            ]
          },
          "metadata": {},
          "execution_count": 26
        }
      ],
      "source": [
        "movieD['vote_average'].describe()"
      ]
    },
    {
      "cell_type": "code",
      "execution_count": 27,
      "metadata": {
        "colab": {
          "base_uri": "https://localhost:8080/",
          "height": 640
        },
        "id": "BQYMQFsQQEHU",
        "outputId": "32109ad7-858c-436f-9055-e639cdbfaf37"
      },
      "outputs": [
        {
          "output_type": "stream",
          "name": "stderr",
          "text": [
            "<ipython-input-27-f0ebbe3cb24e>:5: UserWarning: \n",
            "\n",
            "`distplot` is a deprecated function and will be removed in seaborn v0.14.0.\n",
            "\n",
            "Please adapt your code to use either `displot` (a figure-level function with\n",
            "similar flexibility) or `histplot` (an axes-level function for histograms).\n",
            "\n",
            "For a guide to updating your code to use the new functions, please see\n",
            "https://gist.github.com/mwaskom/de44147ed2974457ad6372750bbe5751\n",
            "\n",
            "  sns.distplot(movieD['popularity'].fillna(movieD['popularity'].median()))\n"
          ]
        },
        {
          "output_type": "display_data",
          "data": {
            "text/plain": [
              "<Figure size 640x480 with 1 Axes>"
            ],
            "image/png": "[encoded data removed]"
          },
          "metadata": {}
        }
      ],
      "source": [
        "#Now lets visualize them\n",
        "#Popularity First\n",
        "import seaborn as sns\n",
        "\n",
        "sns.distplot(movieD['popularity'].fillna(movieD['popularity'].median()))\n",
        "plt.show()"
      ]
    },
    {
      "cell_type": "code",
      "execution_count": 28,
      "metadata": {
        "colab": {
          "base_uri": "https://localhost:8080/",
          "height": 447
        },
        "id": "wAGTCyrDQtSj",
        "outputId": "8ea8a70a-2739-4787-f014-519bd961a2b0"
      },
      "outputs": [
        {
          "output_type": "execute_result",
          "data": {
            "text/plain": [
              "<Axes: ylabel='Frequency'>"
            ]
          },
          "metadata": {},
          "execution_count": 28
        },
        {
          "output_type": "display_data",
          "data": {
            "text/plain": [
              "<Figure size 640x480 with 1 Axes>"
            ],
            "image/png": "[encoded data removed]"
          },
          "metadata": {}
        }
      ],
      "source": [
        "movieD['popularity'].plot(logy=True, kind='hist')"
      ]
    },
    {
      "cell_type": "markdown",
      "metadata": {
        "id": "0eg3YYuxrx7M"
      },
      "source": [
        "This visualization helps in understanding the distribution of popularity values in the dataset and how frequently certain ranges of popularity occur.As you can see a significant number of movies in the dataset have a popularity score with the frequency at its highest between 0 and 50."
      ]
    },
    {
      "cell_type": "code",
      "execution_count": 29,
      "metadata": {
        "colab": {
          "base_uri": "https://localhost:8080/"
        },
        "id": "vFKvZOk3k5sT",
        "outputId": "1f03aed5-db10-4c22-f596-00f4f91c1a45"
      },
      "outputs": [
        {
          "output_type": "execute_result",
          "data": {
            "text/plain": [
              "count    45460.000000\n",
              "mean       109.897338\n",
              "std        491.310374\n",
              "min          0.000000\n",
              "25%          3.000000\n",
              "50%         10.000000\n",
              "75%         34.000000\n",
              "max      14075.000000\n",
              "Name: vote_count, dtype: float64"
            ]
          },
          "metadata": {},
          "execution_count": 29
        }
      ],
      "source": [
        "#Lets look at the amount of people that voted\n",
        "movieD['vote_count'].describe()"
      ]
    },
    {
      "cell_type": "code",
      "execution_count": 30,
      "metadata": {
        "colab": {
          "base_uri": "https://localhost:8080/"
        },
        "id": "3GiE1A2flZwo",
        "outputId": "7b6f568f-a857-49ad-c23d-04d220b7a176"
      },
      "outputs": [
        {
          "output_type": "execute_result",
          "data": {
            "text/plain": [
              "count    42462.000000\n",
              "mean         6.014877\n",
              "std          1.256208\n",
              "min          0.500000\n",
              "25%          5.300000\n",
              "50%          6.100000\n",
              "75%          6.900000\n",
              "max         10.000000\n",
              "Name: vote_average, dtype: float64"
            ]
          },
          "metadata": {},
          "execution_count": 30
        }
      ],
      "source": [
        "#Lets get rid of the 0 by replacing it with NAN for vote average\n",
        "movieD['vote_average'] = movieD['vote_average'].replace(0, np.nan)\n",
        "movieD['vote_average'].describe()"
      ]
    },
    {
      "cell_type": "code",
      "execution_count": 31,
      "metadata": {
        "colab": {
          "base_uri": "https://localhost:8080/",
          "height": 657
        },
        "id": "t6YZuahDlaJJ",
        "outputId": "6d88ffa8-9aaf-42fa-aa1e-a2aa3deeb920"
      },
      "outputs": [
        {
          "output_type": "stream",
          "name": "stderr",
          "text": [
            "<ipython-input-31-6479aae65157>:2: UserWarning: \n",
            "\n",
            "`distplot` is a deprecated function and will be removed in seaborn v0.14.0.\n",
            "\n",
            "Please adapt your code to use either `displot` (a figure-level function with\n",
            "similar flexibility) or `histplot` (an axes-level function for histograms).\n",
            "\n",
            "For a guide to updating your code to use the new functions, please see\n",
            "https://gist.github.com/mwaskom/de44147ed2974457ad6372750bbe5751\n",
            "\n",
            "  sns.distplot(movieD['vote_average'].fillna(movieD['vote_average'].median()))\n"
          ]
        },
        {
          "output_type": "execute_result",
          "data": {
            "text/plain": [
              "<Axes: xlabel='vote_average', ylabel='Density'>"
            ]
          },
          "metadata": {},
          "execution_count": 31
        },
        {
          "output_type": "display_data",
          "data": {
            "text/plain": [
              "<Figure size 640x480 with 1 Axes>"
            ],
            "image/png": "[encoded data removed]"
          },
          "metadata": {}
        }
      ],
      "source": [
        "#Now lets visualize vote average\n",
        "sns.distplot(movieD['vote_average'].fillna(movieD['vote_average'].median()))"
      ]
    },
    {
      "cell_type": "markdown",
      "metadata": {
        "id": "bqJOZ-z1O0gi"
      },
      "source": [
        "This graph is to create a distribution plot for the 'vote_average' column, where missing values are imputed with the median value of the column. The distribution of vote averages is peaked around 6 out of 10, it suggests that a significant number of movies in the dataset have received ratings close to 6."
      ]
    },
    {
      "cell_type": "code",
      "execution_count": 32,
      "metadata": {
        "colab": {
          "base_uri": "https://localhost:8080/"
        },
        "id": "UdLNkgYMl8Oc",
        "outputId": "d4245332-dbe6-438a-b094-af1e946d91cc"
      },
      "outputs": [
        {
          "output_type": "execute_result",
          "data": {
            "text/plain": [
              "count    8.890000e+03\n",
              "mean     2.160428e+07\n",
              "std      3.431063e+07\n",
              "min      1.000000e+00\n",
              "25%      2.000000e+06\n",
              "50%      8.000000e+06\n",
              "75%      2.500000e+07\n",
              "max      3.800000e+08\n",
              "Name: budget, dtype: float64"
            ]
          },
          "metadata": {},
          "execution_count": 32
        }
      ],
      "source": [
        "#Now lets try and explore the budget and revenue more:\n",
        "#first lets get a description of it\n",
        "movieD['budget'].describe()"
      ]
    },
    {
      "cell_type": "code",
      "execution_count": 33,
      "metadata": {
        "colab": {
          "base_uri": "https://localhost:8080/",
          "height": 673
        },
        "id": "JRqgxL7xoX5R",
        "outputId": "ca0e65a0-accb-4c4a-9df2-fffdae847897"
      },
      "outputs": [
        {
          "output_type": "stream",
          "name": "stderr",
          "text": [
            "<ipython-input-33-10e371a85351>:2: UserWarning: \n",
            "\n",
            "`distplot` is a deprecated function and will be removed in seaborn v0.14.0.\n",
            "\n",
            "Please adapt your code to use either `displot` (a figure-level function with\n",
            "similar flexibility) or `histplot` (an axes-level function for histograms).\n",
            "\n",
            "For a guide to updating your code to use the new functions, please see\n",
            "https://gist.github.com/mwaskom/de44147ed2974457ad6372750bbe5751\n",
            "\n",
            "  sns.distplot(movieD[movieD['budget'].notnull()]['budget'])\n"
          ]
        },
        {
          "output_type": "execute_result",
          "data": {
            "text/plain": [
              "<Axes: xlabel='budget', ylabel='Density'>"
            ]
          },
          "metadata": {},
          "execution_count": 33
        },
        {
          "output_type": "display_data",
          "data": {
            "text/plain": [
              "<Figure size 640x480 with 1 Axes>"
            ],
            "image/png": "[encoded data removed]"
          },
          "metadata": {}
        }
      ],
      "source": [
        "#Now lets visualize Budget\n",
        "sns.distplot(movieD[movieD['budget'].notnull()]['budget'])"
      ]
    },
    {
      "cell_type": "markdown",
      "source": [
        "This code above is to create a distribution plot for the 'budget' column, excluding rows where the 'budget' is null."
      ],
      "metadata": {
        "id": "3JhpmdE_ruY3"
      }
    },
    {
      "cell_type": "code",
      "execution_count": 34,
      "metadata": {
        "colab": {
          "base_uri": "https://localhost:8080/",
          "height": 467
        },
        "id": "J0kaOww7o4n_",
        "outputId": "8a9d3584-495b-4be7-8839-9f59cf591b7c"
      },
      "outputs": [
        {
          "output_type": "execute_result",
          "data": {
            "text/plain": [
              "<Axes: ylabel='Frequency'>"
            ]
          },
          "metadata": {},
          "execution_count": 34
        },
        {
          "output_type": "display_data",
          "data": {
            "text/plain": [
              "<Figure size 640x480 with 1 Axes>"
            ],
            "image/png": "[encoded data removed]"
          },
          "metadata": {}
        }
      ],
      "source": [
        "\n",
        "movieD['budget'].plot(logy=True, kind='hist')"
      ]
    },
    {
      "cell_type": "markdown",
      "metadata": {
        "id": "GmfO7R7VopJw"
      },
      "source": [
        "This shows that a significant amount of  movies have relatively low budgets"
      ]
    },
    {
      "cell_type": "code",
      "execution_count": 35,
      "metadata": {
        "colab": {
          "base_uri": "https://localhost:8080/"
        },
        "id": "RyA1AKLYot43",
        "outputId": "a81e5079-5f88-4dc4-f79c-bbb8c463c466"
      },
      "outputs": [
        {
          "output_type": "execute_result",
          "data": {
            "text/plain": [
              "count    7.408000e+03\n",
              "mean     6.878739e+07\n",
              "std      1.464203e+08\n",
              "min      1.000000e+00\n",
              "25%      2.400000e+06\n",
              "50%      1.682272e+07\n",
              "75%      6.722707e+07\n",
              "max      2.787965e+09\n",
              "Name: revenue, dtype: float64"
            ]
          },
          "metadata": {},
          "execution_count": 35
        }
      ],
      "source": [
        "movieD['revenue'].describe()"
      ]
    },
    {
      "cell_type": "code",
      "execution_count": 36,
      "metadata": {
        "colab": {
          "base_uri": "https://localhost:8080/",
          "height": 673
        },
        "id": "BYn_L5DRpM7h",
        "outputId": "90d52c86-5d8f-4163-a963-cb314bb858e4"
      },
      "outputs": [
        {
          "output_type": "stream",
          "name": "stderr",
          "text": [
            "<ipython-input-36-9dd70bdfe24a>:1: UserWarning: \n",
            "\n",
            "`distplot` is a deprecated function and will be removed in seaborn v0.14.0.\n",
            "\n",
            "Please adapt your code to use either `displot` (a figure-level function with\n",
            "similar flexibility) or `histplot` (an axes-level function for histograms).\n",
            "\n",
            "For a guide to updating your code to use the new functions, please see\n",
            "https://gist.github.com/mwaskom/de44147ed2974457ad6372750bbe5751\n",
            "\n",
            "  sns.distplot(movieD[movieD['revenue'].notnull()]['revenue'])\n"
          ]
        },
        {
          "output_type": "execute_result",
          "data": {
            "text/plain": [
              "<Axes: xlabel='revenue', ylabel='Density'>"
            ]
          },
          "metadata": {},
          "execution_count": 36
        },
        {
          "output_type": "display_data",
          "data": {
            "text/plain": [
              "<Figure size 640x480 with 1 Axes>"
            ],
            "image/png": "[encoded data removed]"
          },
          "metadata": {}
        }
      ],
      "source": [
        "sns.distplot(movieD[movieD['revenue'].notnull()]['revenue'])"
      ]
    },
    {
      "cell_type": "markdown",
      "metadata": {
        "id": "93h1BAvIpUY2"
      },
      "source": [
        "Revenue too shows a similar fate as budget."
      ]
    },
    {
      "cell_type": "markdown",
      "metadata": {
        "id": "_uQnjc44spi5"
      },
      "source": [
        "## Dropping Missing Values\n"
      ]
    },
    {
      "cell_type": "code",
      "execution_count": 37,
      "metadata": {
        "colab": {
          "base_uri": "https://localhost:8080/"
        },
        "id": "xAPGwyZEpdVS",
        "outputId": "135f1f49-3fb1-4fce-f7fc-1340eb1bab6c"
      },
      "outputs": [
        {
          "output_type": "execute_result",
          "data": {
            "text/plain": [
              "budget          36576\n",
              "genres              0\n",
              "popularity          6\n",
              "revenue         38058\n",
              "vote_average     3004\n",
              "vote_count          6\n",
              "Success             0\n",
              "dtype: int64"
            ]
          },
          "metadata": {},
          "execution_count": 37
        }
      ],
      "source": [
        "#First lets check for missing values\n",
        "movieD.isnull().sum()"
      ]
    },
    {
      "cell_type": "markdown",
      "metadata": {
        "id": "Wv3Ed50-poe1"
      },
      "source": [
        "So we have quite a bit of missing values, therefore we will drop rows with missing values"
      ]
    },
    {
      "cell_type": "markdown",
      "metadata": {
        "id": "gLzUqNvOp5VO"
      },
      "source": [
        "Now, there are no more missing values"
      ]
    },
    {
      "cell_type": "code",
      "execution_count": 38,
      "metadata": {
        "colab": {
          "base_uri": "https://localhost:8080/"
        },
        "id": "ZM41vXxqpmGu",
        "outputId": "85c89502-af15-4397-e203-e787d04c325b"
      },
      "outputs": [
        {
          "output_type": "execute_result",
          "data": {
            "text/plain": [
              "budget          0\n",
              "genres          0\n",
              "popularity      0\n",
              "revenue         0\n",
              "vote_average    0\n",
              "vote_count      0\n",
              "Success         0\n",
              "dtype: int64"
            ]
          },
          "metadata": {},
          "execution_count": 38
        }
      ],
      "source": [
        "#Dropping rows with missing values\n",
        "movieD.dropna(inplace=True)\n",
        "#Check the number of missing values to ensure we have none\n",
        "movieD.isnull().sum()"
      ]
    },
    {
      "cell_type": "code",
      "execution_count": 39,
      "metadata": {
        "colab": {
          "base_uri": "https://localhost:8080/"
        },
        "id": "uEZCbgVEp5DP",
        "outputId": "71d0f0e1-a220-41bf-8517-5ec695456a18"
      },
      "outputs": [
        {
          "output_type": "stream",
          "name": "stdout",
          "text": [
            "<class 'pandas.core.frame.DataFrame'>\n",
            "Int64Index: 5374 entries, 0 to 45422\n",
            "Data columns (total 7 columns):\n",
            " #   Column        Non-Null Count  Dtype  \n",
            "---  ------        --------------  -----  \n",
            " 0   budget        5374 non-null   float64\n",
            " 1   genres        5374 non-null   object \n",
            " 2   popularity    5374 non-null   float64\n",
            " 3   revenue       5374 non-null   float64\n",
            " 4   vote_average  5374 non-null   float64\n",
            " 5   vote_count    5374 non-null   float64\n",
            " 6   Success       5374 non-null   int64  \n",
            "dtypes: float64(5), int64(1), object(1)\n",
            "memory usage: 335.9+ KB\n"
          ]
        }
      ],
      "source": [
        "#Lets see how our data is looking like now\n",
        "movieD.info()"
      ]
    },
    {
      "cell_type": "markdown",
      "source": [
        "Lets be formatting the 'popularity' column by converting it to numeric format, rounding the numeric values to two decimal places."
      ],
      "metadata": {
        "id": "_S9YSNXxvtLU"
      }
    },
    {
      "cell_type": "code",
      "execution_count": 40,
      "metadata": {
        "colab": {
          "base_uri": "https://localhost:8080/"
        },
        "id": "8I9O7CBPq4VH",
        "outputId": "5e41f66a-c52b-4eae-d8c0-0ba7d43b9e3e"
      },
      "outputs": [
        {
          "output_type": "stream",
          "name": "stdout",
          "text": [
            "<class 'pandas.core.frame.DataFrame'>\n",
            "Int64Index: 5374 entries, 0 to 45422\n",
            "Data columns (total 7 columns):\n",
            " #   Column        Non-Null Count  Dtype  \n",
            "---  ------        --------------  -----  \n",
            " 0   budget        5374 non-null   float64\n",
            " 1   genres        5374 non-null   object \n",
            " 2   popularity    5374 non-null   float64\n",
            " 3   revenue       5374 non-null   float64\n",
            " 4   vote_average  5374 non-null   float64\n",
            " 5   vote_count    5374 non-null   float64\n",
            " 6   Success       5374 non-null   int64  \n",
            "dtypes: float64(5), int64(1), object(1)\n",
            "memory usage: 335.9+ KB\n"
          ]
        },
        {
          "output_type": "execute_result",
          "data": {
            "text/plain": [
              "(5374, 7)"
            ]
          },
          "metadata": {},
          "execution_count": 40
        }
      ],
      "source": [
        "movieD[\"popularity\"] = np.round(pd.to_numeric(movieD.popularity, errors='coerce'),2)\n",
        "movieD.info()\n",
        "movieD.shape"
      ]
    },
    {
      "cell_type": "markdown",
      "source": [
        "All thats left to do is genres now, first lets see how many genres we are working with"
      ],
      "metadata": {
        "id": "Ya-j_bobvyLd"
      }
    },
    {
      "cell_type": "code",
      "source": [
        "movieD.genres.max()"
      ],
      "metadata": {
        "colab": {
          "base_uri": "https://localhost:8080/"
        },
        "id": "XJGqwfe9vfIX",
        "outputId": "181db6b5-d130-4fac-f2db-e5b57ba28fc8"
      },
      "execution_count": 73,
      "outputs": [
        {
          "output_type": "execute_result",
          "data": {
            "text/plain": [
              "20"
            ]
          },
          "metadata": {},
          "execution_count": 73
        }
      ]
    },
    {
      "cell_type": "markdown",
      "source": [
        "There are 20 genres in the dataset, we will keep it as such"
      ],
      "metadata": {
        "id": "woGZ_HsHuK1j"
      }
    },
    {
      "cell_type": "markdown",
      "metadata": {
        "id": "fNUc1FR6rwnd"
      },
      "source": [
        "Now we just have to encode genres but first I will be creating a dummy variable for genres because it seems that the genres information is stored between single quotes in the original 'genres' column with other unnecessary information, and the code below aims to extract this information and create a new column 'Genres' with just the type of genre."
      ]
    },
    {
      "cell_type": "code",
      "execution_count": 41,
      "metadata": {
        "id": "JWYEuzigsp_N"
      },
      "outputs": [],
      "source": [
        "#Lets take Just The Type out of the genre columns and convert it to panda\n",
        "s = pd.Series(movieD['genres'], dtype= str)\n",
        "s1=s.str.split(pat=\"'\",expand=True)\n",
        "movieD['Genres']=s1[5]"
      ]
    },
    {
      "cell_type": "code",
      "execution_count": 42,
      "metadata": {
        "colab": {
          "base_uri": "https://localhost:8080/"
        },
        "id": "H18G2RTCum9f",
        "outputId": "f88aed40-718e-4fe3-c4f8-b796009e671a"
      },
      "outputs": [
        {
          "output_type": "execute_result",
          "data": {
            "text/plain": [
              "Drama              1313\n",
              "Comedy             1067\n",
              "Action              960\n",
              "Adventure           416\n",
              "Horror              325\n",
              "Crime               267\n",
              "Thriller            199\n",
              "Animation           146\n",
              "Fantasy             140\n",
              "Romance             121\n",
              "Science Fiction     104\n",
              "Mystery              67\n",
              "Family               55\n",
              "Documentary          47\n",
              "War                  38\n",
              "Music                34\n",
              "Western              31\n",
              "History              29\n",
              "Foreign               4\n",
              "TV Movie              1\n",
              "Name: Genres, dtype: int64"
            ]
          },
          "metadata": {},
          "execution_count": 42
        }
      ],
      "source": [
        "#count of each genre in the dataset\n",
        "movieD['Genres'].value_counts()"
      ]
    },
    {
      "cell_type": "markdown",
      "metadata": {
        "id": "cR2gNd7SvR6k"
      },
      "source": [
        "As you can see most genres in the dataset are Drama and comedy, now lets drop our original genre column"
      ]
    },
    {
      "cell_type": "code",
      "execution_count": 43,
      "metadata": {
        "id": "vXiL5OCXH4WI"
      },
      "outputs": [],
      "source": [
        "#Drop original column from dataset\n",
        "movieD.drop(['genres'], axis=1, inplace=True) #its no longer needed"
      ]
    },
    {
      "cell_type": "code",
      "execution_count": 44,
      "metadata": {
        "id": "wwSGV81yL7Qg"
      },
      "outputs": [],
      "source": [
        "#Encode New Genres\n",
        "from sklearn.preprocessing import LabelEncoder\n",
        "le = LabelEncoder()\n",
        "movieD['Genres_encoded'] = le.fit_transform(movieD['Genres'])"
      ]
    },
    {
      "cell_type": "code",
      "execution_count": 45,
      "metadata": {
        "id": "on7nqZHkMzmv"
      },
      "outputs": [],
      "source": [
        "movieD.drop(['Genres'], axis=1, inplace=True) #drop the unencoded Genres"
      ]
    },
    {
      "cell_type": "code",
      "execution_count": 47,
      "metadata": {
        "id": "W2a07Yu1M5xd"
      },
      "outputs": [],
      "source": [
        "#Rename to Just genres\n",
        "movieD.rename(columns={'Genres_encoded': 'genres'}, inplace=True)"
      ]
    },
    {
      "cell_type": "markdown",
      "metadata": {
        "id": "PeeQwIZwqfKn"
      },
      "source": [
        "As you can see, all neccesary columns have been turned into floats and can be used for predicting.We now have 5,374 entries."
      ]
    },
    {
      "cell_type": "code",
      "execution_count": 48,
      "metadata": {
        "colab": {
          "base_uri": "https://localhost:8080/"
        },
        "id": "Ycqm5g1iNNtO",
        "outputId": "39abd2cb-24a1-4d33-c598-62e2d1941cd2"
      },
      "outputs": [
        {
          "output_type": "stream",
          "name": "stdout",
          "text": [
            "<class 'pandas.core.frame.DataFrame'>\n",
            "Int64Index: 5374 entries, 0 to 45422\n",
            "Data columns (total 7 columns):\n",
            " #   Column        Non-Null Count  Dtype  \n",
            "---  ------        --------------  -----  \n",
            " 0   budget        5374 non-null   float64\n",
            " 1   popularity    5374 non-null   float64\n",
            " 2   revenue       5374 non-null   float64\n",
            " 3   vote_average  5374 non-null   float64\n",
            " 4   vote_count    5374 non-null   float64\n",
            " 5   Success       5374 non-null   int64  \n",
            " 6   genres        5374 non-null   int64  \n",
            "dtypes: float64(5), int64(2)\n",
            "memory usage: 335.9 KB\n"
          ]
        }
      ],
      "source": [
        "movieD.info()"
      ]
    },
    {
      "cell_type": "markdown",
      "metadata": {
        "id": "ois6O3X_rP9a"
      },
      "source": [
        "However, looking at the info from MovieD dataset, Its maybe best to even check for outliers."
      ]
    },
    {
      "cell_type": "code",
      "execution_count": 51,
      "metadata": {
        "colab": {
          "base_uri": "https://localhost:8080/",
          "height": 462
        },
        "id": "NyoECQkEupyI",
        "outputId": "16240b36-d56d-4a75-a87a-5565aed98f6d"
      },
      "outputs": [
        {
          "output_type": "execute_result",
          "data": {
            "text/plain": [
              "<Axes: >"
            ]
          },
          "metadata": {},
          "execution_count": 51
        },
        {
          "output_type": "display_data",
          "data": {
            "text/plain": [
              "<Figure size 640x480 with 1 Axes>"
            ],
            "image/png": "[encoded data removed]"
          },
          "metadata": {}
        }
      ],
      "source": [
        "#Let's check for outliers\n",
        "movieD.boxplot(column=['budget', 'revenue'])"
      ]
    },
    {
      "cell_type": "markdown",
      "metadata": {
        "id": "KOLv15lsCnP6"
      },
      "source": [
        "There are 3 outliers for revenue"
      ]
    },
    {
      "cell_type": "code",
      "execution_count": 52,
      "metadata": {
        "colab": {
          "base_uri": "https://localhost:8080/"
        },
        "id": "PF2rOTiRDV7r",
        "outputId": "3ccb1905-0a65-4c33-f455-98983d615399"
      },
      "outputs": [
        {
          "output_type": "stream",
          "name": "stdout",
          "text": [
            "Shape of original input dataset: (5374, 7)\n"
          ]
        }
      ],
      "source": [
        "#Lets look at the shape of the original dataset movieD\n",
        "movieD.shape\n",
        "print ('Shape of original input dataset:', movieD.shape)"
      ]
    },
    {
      "cell_type": "code",
      "execution_count": 53,
      "metadata": {
        "colab": {
          "base_uri": "https://localhost:8080/"
        },
        "id": "uOv8mB49Moms",
        "outputId": "05fab011-ea08-4102-c0b8-55fdb6e05919"
      },
      "outputs": [
        {
          "output_type": "stream",
          "name": "stdout",
          "text": [
            "budget          34863750.00\n",
            "popularity             6.26\n",
            "revenue         92959518.75\n",
            "vote_average           1.20\n",
            "vote_count           724.75\n",
            "Success                1.00\n",
            "genres                 5.00\n",
            "dtype: float64\n"
          ]
        }
      ],
      "source": [
        "#calculate the interquartile range (IQR) for identifying potential outliers in the dataset\n",
        "Q1 = movieD.quantile(0.25)\n",
        "Q3 = movieD.quantile(0.75)\n",
        "IQR = Q3 - Q1\n",
        "print(IQR)"
      ]
    },
    {
      "cell_type": "code",
      "execution_count": 54,
      "metadata": {
        "colab": {
          "base_uri": "https://localhost:8080/"
        },
        "id": "WGfewOB8NJo-",
        "outputId": "52a545e3-f9da-4caa-a163-8df961843da3"
      },
      "outputs": [
        {
          "output_type": "stream",
          "name": "stdout",
          "text": [
            "Number of Rows in dataframe with revenue more than 13.5 million dollars or budget more than 30 million:  3585\n"
          ]
        }
      ],
      "source": [
        "movieD_high = movieD.apply(lambda x : True\n",
        "            if x['revenue'] > 13500000 or x['budget'] > 30000000 else False, axis = 1)\n",
        "num_rows = len(movieD_high[movieD_high == True].index)\n",
        "\n",
        "print('Number of Rows in dataframe with revenue more than 13.5 million dollars or budget more than 30 million: ',\n",
        "      num_rows )"
      ]
    },
    {
      "cell_type": "markdown",
      "metadata": {
        "id": "SDx8t9edN-5z"
      },
      "source": [
        "The code above calculates and prints the number of rows in movieD where either the 'revenue' is more than 13.5 million dollars or the 'budget' is more than 30 million dollars. Here, the answer is 3585 movies.This shows that alot of movies have high budget and low revenue."
      ]
    },
    {
      "cell_type": "markdown",
      "source": [
        "Looking at this, i believe there is no need to remove the outliers as they would not cause much issue to the prediction process."
      ],
      "metadata": {
        "id": "awvmKNXOwFFR"
      }
    },
    {
      "cell_type": "markdown",
      "metadata": {
        "id": "ut8tIWq4Pchd"
      },
      "source": [
        "Now that the dataset is ready, time to look at the nature of the target variable 'success'\n"
      ]
    },
    {
      "cell_type": "code",
      "execution_count": 55,
      "metadata": {
        "colab": {
          "base_uri": "https://localhost:8080/"
        },
        "id": "EiT-nlpiOwq8",
        "outputId": "e46a4dc7-2b8e-4e20-9b1c-e7d333ea7fa9"
      },
      "outputs": [
        {
          "output_type": "execute_result",
          "data": {
            "text/plain": [
              "0    3196\n",
              "1    2178\n",
              "Name: Success, dtype: int64"
            ]
          },
          "metadata": {},
          "execution_count": 55
        }
      ],
      "source": [
        "# check distribution of target variable\n",
        "movieD['Success'].value_counts()"
      ]
    },
    {
      "cell_type": "markdown",
      "metadata": {
        "id": "ezkU3tQsQYDC"
      },
      "source": [
        "In the end, we were able to preprocess and prepare our dataset from 45,466 movies with 24 features to 5374 movies and 8 features. Our data can now be scaled and used for prediction."
      ]
    },
    {
      "cell_type": "markdown",
      "metadata": {
        "id": "fh0L0OOxrHkG"
      },
      "source": [
        "# Feature Engineering"
      ]
    },
    {
      "cell_type": "markdown",
      "metadata": {
        "id": "_gNQVR_8TFTv"
      },
      "source": [
        "## Feature Extraction"
      ]
    },
    {
      "cell_type": "markdown",
      "metadata": {
        "id": "MB3KIyH7TS4f"
      },
      "source": [
        "We dont need to do feature importance since the 8 features are enough, just by clearing the unnecessary, the needed features wer shown."
      ]
    },
    {
      "cell_type": "code",
      "execution_count": 56,
      "metadata": {
        "id": "NMT1h7qUTNwz"
      },
      "outputs": [],
      "source": [
        "# the target variable and features; drop non-numeric columns if necessary\n",
        "X = movieD.drop(columns=['Success'])\n",
        "y = movieD['Success']"
      ]
    },
    {
      "cell_type": "code",
      "execution_count": 57,
      "metadata": {
        "id": "5zT3Sa-qUSlY"
      },
      "outputs": [],
      "source": [
        "# Splitting the dataset into training and testing sets\n",
        "X_train, X_test, y_train, y_test = train_test_split(X, y, test_size=0.3, random_state=69)"
      ]
    },
    {
      "cell_type": "markdown",
      "metadata": {
        "id": "mhoGReN2SAgh"
      },
      "source": [
        "## Feature Scaling\n"
      ]
    },
    {
      "cell_type": "markdown",
      "metadata": {
        "id": "qVg3WX_MSS96"
      },
      "source": [
        "At this stage our goal is to use finished dataset we have identified at our feature extraction stage to create subsetted data that we will use to train models."
      ]
    },
    {
      "cell_type": "code",
      "execution_count": 58,
      "metadata": {
        "colab": {
          "base_uri": "https://localhost:8080/",
          "height": 206
        },
        "id": "zWP6AvEXWTOj",
        "outputId": "ac391502-80a6-4223-8f95-dd7068154308"
      },
      "outputs": [
        {
          "output_type": "execute_result",
          "data": {
            "text/plain": [
              "     budget  popularity   revenue  vote_average  vote_count    genres\n",
              "0 -0.028022    0.880000  1.703454      1.575873    3.739586 -0.671918\n",
              "1  0.843174    0.523315  1.037069      0.687419    1.341707 -0.882428\n",
              "2 -0.376501   -0.428810 -0.054023     -0.201035   -0.558544 -0.461407\n",
              "3  0.718717    0.588430  0.583651      1.575873    0.920760 -1.092938\n",
              "4  0.096434   -0.329691 -0.156919     -0.867375   -0.446717 -1.092938"
            ],
            "text/html": [
              "\n",
              "  <div id=\"df-2aa29666-e25e-476c-a3c8-5d8b5b32a3d5\" class=\"colab-df-container\">\n",
              "    <div>\n",
              "<style scoped>\n",
              "    .dataframe tbody tr th:only-of-type {\n",
              "        vertical-align: middle;\n",
              "    }\n",
              "\n",
              "    .dataframe tbody tr th {\n",
              "        vertical-align: top;\n",
              "    }\n",
              "\n",
              "    .dataframe thead th {\n",
              "        text-align: right;\n",
              "    }\n",
              "</style>\n",
              "<table border=\"1\" class=\"dataframe\">\n",
              "  <thead>\n",
              "    <tr style=\"text-align: right;\">\n",
              "      <th></th>\n",
              "      <th>budget</th>\n",
              "      <th>popularity</th>\n",
              "      <th>revenue</th>\n",
              "      <th>vote_average</th>\n",
              "      <th>vote_count</th>\n",
              "      <th>genres</th>\n",
              "    </tr>\n",
              "  </thead>\n",
              "  <tbody>\n",
              "    <tr>\n",
              "      <th>0</th>\n",
              "      <td>-0.028022</td>\n",
              "      <td>0.880000</td>\n",
              "      <td>1.703454</td>\n",
              "      <td>1.575873</td>\n",
              "      <td>3.739586</td>\n",
              "      <td>-0.671918</td>\n",
              "    </tr>\n",
              "    <tr>\n",
              "      <th>1</th>\n",
              "      <td>0.843174</td>\n",
              "      <td>0.523315</td>\n",
              "      <td>1.037069</td>\n",
              "      <td>0.687419</td>\n",
              "      <td>1.341707</td>\n",
              "      <td>-0.882428</td>\n",
              "    </tr>\n",
              "    <tr>\n",
              "      <th>2</th>\n",
              "      <td>-0.376501</td>\n",
              "      <td>-0.428810</td>\n",
              "      <td>-0.054023</td>\n",
              "      <td>-0.201035</td>\n",
              "      <td>-0.558544</td>\n",
              "      <td>-0.461407</td>\n",
              "    </tr>\n",
              "    <tr>\n",
              "      <th>3</th>\n",
              "      <td>0.718717</td>\n",
              "      <td>0.588430</td>\n",
              "      <td>0.583651</td>\n",
              "      <td>1.575873</td>\n",
              "      <td>0.920760</td>\n",
              "      <td>-1.092938</td>\n",
              "    </tr>\n",
              "    <tr>\n",
              "      <th>4</th>\n",
              "      <td>0.096434</td>\n",
              "      <td>-0.329691</td>\n",
              "      <td>-0.156919</td>\n",
              "      <td>-0.867375</td>\n",
              "      <td>-0.446717</td>\n",
              "      <td>-1.092938</td>\n",
              "    </tr>\n",
              "  </tbody>\n",
              "</table>\n",
              "</div>\n",
              "    <div class=\"colab-df-buttons\">\n",
              "\n",
              "  <div class=\"colab-df-container\">\n",
              "    <button class=\"colab-df-convert\" onclick=\"convertToInteractive('df-2aa29666-e25e-476c-a3c8-5d8b5b32a3d5')\"\n",
              "            title=\"Convert this dataframe to an interactive table.\"\n",
              "            style=\"display:none;\">\n",
              "\n",
              "  <svg xmlns=\"http://www.w3.org/2000/svg\" height=\"24px\" viewBox=\"0 -960 960 960\">\n",
              "    <path d=\"M120-120v-720h720v720H120Zm60-500h600v-160H180v160Zm220 220h160v-160H400v160Zm0 220h160v-160H400v160ZM180-400h160v-160H180v160Zm440 0h160v-160H620v160ZM180-180h160v-160H180v160Zm440 0h160v-160H620v160Z\"/>\n",
              "  </svg>\n",
              "    </button>\n",
              "\n",
              "  <style>\n",
              "    .colab-df-container {\n",
              "      display:flex;\n",
              "      gap: 12px;\n",
              "    }\n",
              "\n",
              "    .colab-df-convert {\n",
              "      background-color: #E8F0FE;\n",
              "      border: none;\n",
              "      border-radius: 50%;\n",
              "      cursor: pointer;\n",
              "      display: none;\n",
              "      fill: #1967D2;\n",
              "      height: 32px;\n",
              "      padding: 0 0 0 0;\n",
              "      width: 32px;\n",
              "    }\n",
              "\n",
              "    .colab-df-convert:hover {\n",
              "      background-color: #E2EBFA;\n",
              "      box-shadow: 0px 1px 2px rgba(60, 64, 67, 0.3), 0px 1px 3px 1px rgba(60, 64, 67, 0.15);\n",
              "      fill: #174EA6;\n",
              "    }\n",
              "\n",
              "    .colab-df-buttons div {\n",
              "      margin-bottom: 4px;\n",
              "    }\n",
              "\n",
              "    [theme=dark] .colab-df-convert {\n",
              "      background-color: #3B4455;\n",
              "      fill: #D2E3FC;\n",
              "    }\n",
              "\n",
              "    [theme=dark] .colab-df-convert:hover {\n",
              "      background-color: #434B5C;\n",
              "      box-shadow: 0px 1px 3px 1px rgba(0, 0, 0, 0.15);\n",
              "      filter: drop-shadow(0px 1px 2px rgba(0, 0, 0, 0.3));\n",
              "      fill: #FFFFFF;\n",
              "    }\n",
              "  </style>\n",
              "\n",
              "    <script>\n",
              "      const buttonEl =\n",
              "        document.querySelector('#df-2aa29666-e25e-476c-a3c8-5d8b5b32a3d5 button.colab-df-convert');\n",
              "      buttonEl.style.display =\n",
              "        google.colab.kernel.accessAllowed ? 'block' : 'none';\n",
              "\n",
              "      async function convertToInteractive(key) {\n",
              "        const element = document.querySelector('#df-2aa29666-e25e-476c-a3c8-5d8b5b32a3d5');\n",
              "        const dataTable =\n",
              "          await google.colab.kernel.invokeFunction('convertToInteractive',\n",
              "                                                    [key], {});\n",
              "        if (!dataTable) return;\n",
              "\n",
              "        const docLinkHtml = 'Like what you see? Visit the ' +\n",
              "          '<a target=\"_blank\" href=https://colab.research.google.com/notebooks/data_table.ipynb>data table notebook</a>'\n",
              "          + ' to learn more about interactive tables.';\n",
              "        element.innerHTML = '';\n",
              "        dataTable['output_type'] = 'display_data';\n",
              "        await google.colab.output.renderOutput(dataTable, element);\n",
              "        const docLink = document.createElement('div');\n",
              "        docLink.innerHTML = docLinkHtml;\n",
              "        element.appendChild(docLink);\n",
              "      }\n",
              "    </script>\n",
              "  </div>\n",
              "\n",
              "\n",
              "<div id=\"df-5c36f7c4-b701-45ca-808e-4bd8decb4db6\">\n",
              "  <button class=\"colab-df-quickchart\" onclick=\"quickchart('df-5c36f7c4-b701-45ca-808e-4bd8decb4db6')\"\n",
              "            title=\"Suggest charts\"\n",
              "            style=\"display:none;\">\n",
              "\n",
              "<svg xmlns=\"http://www.w3.org/2000/svg\" height=\"24px\"viewBox=\"0 0 24 24\"\n",
              "     width=\"24px\">\n",
              "    <g>\n",
              "        <path d=\"M19 3H5c-1.1 0-2 .9-2 2v14c0 1.1.9 2 2 2h14c1.1 0 2-.9 2-2V5c0-1.1-.9-2-2-2zM9 17H7v-7h2v7zm4 0h-2V7h2v10zm4 0h-2v-4h2v4z\"/>\n",
              "    </g>\n",
              "</svg>\n",
              "  </button>\n",
              "\n",
              "<style>\n",
              "  .colab-df-quickchart {\n",
              "      --bg-color: #E8F0FE;\n",
              "      --fill-color: #1967D2;\n",
              "      --hover-bg-color: #E2EBFA;\n",
              "      --hover-fill-color: #174EA6;\n",
              "      --disabled-fill-color: #AAA;\n",
              "      --disabled-bg-color: #DDD;\n",
              "  }\n",
              "\n",
              "  [theme=dark] .colab-df-quickchart {\n",
              "      --bg-color: #3B4455;\n",
              "      --fill-color: #D2E3FC;\n",
              "      --hover-bg-color: #434B5C;\n",
              "      --hover-fill-color: #FFFFFF;\n",
              "      --disabled-bg-color: #3B4455;\n",
              "      --disabled-fill-color: #666;\n",
              "  }\n",
              "\n",
              "  .colab-df-quickchart {\n",
              "    background-color: var(--bg-color);\n",
              "    border: none;\n",
              "    border-radius: 50%;\n",
              "    cursor: pointer;\n",
              "    display: none;\n",
              "    fill: var(--fill-color);\n",
              "    height: 32px;\n",
              "    padding: 0;\n",
              "    width: 32px;\n",
              "  }\n",
              "\n",
              "  .colab-df-quickchart:hover {\n",
              "    background-color: var(--hover-bg-color);\n",
              "    box-shadow: 0 1px 2px rgba(60, 64, 67, 0.3), 0 1px 3px 1px rgba(60, 64, 67, 0.15);\n",
              "    fill: var(--button-hover-fill-color);\n",
              "  }\n",
              "\n",
              "  .colab-df-quickchart-complete:disabled,\n",
              "  .colab-df-quickchart-complete:disabled:hover {\n",
              "    background-color: var(--disabled-bg-color);\n",
              "    fill: var(--disabled-fill-color);\n",
              "    box-shadow: none;\n",
              "  }\n",
              "\n",
              "  .colab-df-spinner {\n",
              "    border: 2px solid var(--fill-color);\n",
              "    border-color: transparent;\n",
              "    border-bottom-color: var(--fill-color);\n",
              "    animation:\n",
              "      spin 1s steps(1) infinite;\n",
              "  }\n",
              "\n",
              "  @keyframes spin {\n",
              "    0% {\n",
              "      border-color: transparent;\n",
              "      border-bottom-color: var(--fill-color);\n",
              "      border-left-color: var(--fill-color);\n",
              "    }\n",
              "    20% {\n",
              "      border-color: transparent;\n",
              "      border-left-color: var(--fill-color);\n",
              "      border-top-color: var(--fill-color);\n",
              "    }\n",
              "    30% {\n",
              "      border-color: transparent;\n",
              "      border-left-color: var(--fill-color);\n",
              "      border-top-color: var(--fill-color);\n",
              "      border-right-color: var(--fill-color);\n",
              "    }\n",
              "    40% {\n",
              "      border-color: transparent;\n",
              "      border-right-color: var(--fill-color);\n",
              "      border-top-color: var(--fill-color);\n",
              "    }\n",
              "    60% {\n",
              "      border-color: transparent;\n",
              "      border-right-color: var(--fill-color);\n",
              "    }\n",
              "    80% {\n",
              "      border-color: transparent;\n",
              "      border-right-color: var(--fill-color);\n",
              "      border-bottom-color: var(--fill-color);\n",
              "    }\n",
              "    90% {\n",
              "      border-color: transparent;\n",
              "      border-bottom-color: var(--fill-color);\n",
              "    }\n",
              "  }\n",
              "</style>\n",
              "\n",
              "  <script>\n",
              "    async function quickchart(key) {\n",
              "      const quickchartButtonEl =\n",
              "        document.querySelector('#' + key + ' button');\n",
              "      quickchartButtonEl.disabled = true;  // To prevent multiple clicks.\n",
              "      quickchartButtonEl.classList.add('colab-df-spinner');\n",
              "      try {\n",
              "        const charts = await google.colab.kernel.invokeFunction(\n",
              "            'suggestCharts', [key], {});\n",
              "      } catch (error) {\n",
              "        console.error('Error during call to suggestCharts:', error);\n",
              "      }\n",
              "      quickchartButtonEl.classList.remove('colab-df-spinner');\n",
              "      quickchartButtonEl.classList.add('colab-df-quickchart-complete');\n",
              "    }\n",
              "    (() => {\n",
              "      let quickchartButtonEl =\n",
              "        document.querySelector('#df-5c36f7c4-b701-45ca-808e-4bd8decb4db6 button');\n",
              "      quickchartButtonEl.style.display =\n",
              "        google.colab.kernel.accessAllowed ? 'block' : 'none';\n",
              "    })();\n",
              "  </script>\n",
              "</div>\n",
              "    </div>\n",
              "  </div>\n"
            ]
          },
          "metadata": {},
          "execution_count": 58
        }
      ],
      "source": [
        "# Initialize the scaler\n",
        "scaler = StandardScaler()\n",
        "\n",
        "# Scale the features\n",
        "X_scaled = scaler.fit_transform(X)\n",
        "\n",
        "# The features are now scaled and ready for training the model.\n",
        "X_scaled_movieD = pd.DataFrame(X_scaled, columns=X.columns)\n",
        "\n",
        "X_scaled_movieD.head()"
      ]
    },
    {
      "cell_type": "code",
      "execution_count": 59,
      "metadata": {
        "id": "LIuf4ds7WVwF"
      },
      "outputs": [],
      "source": [
        "#Saving scaler to use in deployment\n",
        "\n",
        "with open('scaler.pkl', 'wb') as file:\n",
        "    pickle.dump(scaler, file)"
      ]
    },
    {
      "cell_type": "markdown",
      "metadata": {
        "id": "zOnm5BvIQ5zu"
      },
      "source": [
        "# Training Models\n",
        "\n",
        "We are now reading to train some models, here we are going to train 3 modes looking at classification;\n",
        "1. Random Forest\n",
        "2. XGBoost\n",
        "3. MLP\n",
        "\n",
        "\n",
        "\n",
        "\n"
      ]
    },
    {
      "cell_type": "code",
      "execution_count": 60,
      "metadata": {
        "id": "NI35I0PVW02M"
      },
      "outputs": [],
      "source": [
        "#Lets split data for training\n",
        "X_train, X_test, y_train, y_test = train_test_split(X_scaled_movieD, y, test_size=0.3, random_state=84)"
      ]
    },
    {
      "cell_type": "markdown",
      "source": [
        "Lets create a function that is designed to simplify the process of hyperparameter tuning and model selection by using grid search and cross-validation. It will be used with different models by passing the model, parameter grid, features (X), and target variable (y) as arguments."
      ],
      "metadata": {
        "id": "vbTwz-ytXT_n"
      }
    },
    {
      "cell_type": "code",
      "execution_count": 61,
      "metadata": {
        "id": "xXX4j5qGRC4I"
      },
      "outputs": [],
      "source": [
        "def train_model(model, param_grid, X, y):\n",
        "    '''\n",
        "        Trains a model using grid search with cross-validation and returns the best model.\n",
        "        Parameters:\n",
        "            model: scikit-learn model\n",
        "            param_grid: dictionary with parameters to try\n",
        "            X: features(independent variables)\n",
        "            y: target(dependent variable)\n",
        "    '''\n",
        "    cv = KFold(n_splits=7 , random_state=69, shuffle=True)\n",
        "\n",
        "    # Grid search with cross-validation\n",
        "    grid_search = GridSearchCV(estimator=model, param_grid=param_grid, cv=cv, scoring='accuracy', n_jobs=-1)\n",
        "    grid_search.fit(X, y)\n",
        "\n",
        "    # Results of the grid search\n",
        "    print(f\"Best parameters: {grid_search.best_params_}\")\n",
        "    print(f\"Best score (Accuracy): {grid_search.best_score_}\")  # We negate the score because grid search maximizes performance (so it negates the scores)\n",
        "\n",
        "    return grid_search.best_estimator_  # Returns the best model"
      ]
    },
    {
      "cell_type": "markdown",
      "metadata": {
        "id": "8mTdihxsSCDD"
      },
      "source": [
        "## Model 1: Random Forest Classifier"
      ]
    },
    {
      "cell_type": "code",
      "execution_count": null,
      "metadata": {
        "colab": {
          "base_uri": "https://localhost:8080/"
        },
        "id": "YTMxDlZkH-dt",
        "outputId": "802af972-2b93-443f-bc4f-cc64271f92d9"
      },
      "outputs": [
        {
          "name": "stdout",
          "output_type": "stream",
          "text": [
            "\n",
            "Training Random Forest...\n",
            "Best parameters: {'max_depth': 20, 'min_samples_leaf': 1, 'min_samples_split': 5, 'n_estimators': 200}\n",
            "Best score (Accuracy): 0.9670317878973982\n"
          ]
        }
      ],
      "source": [
        "print(\"\\nTraining Random Forest...\")\n",
        "rf_model = RandomForestClassifier(random_state=39)\n",
        "rf_params = {\n",
        "        'n_estimators': [50, 100, 200],\n",
        "        'max_depth': [10, 20, 30],\n",
        "        'min_samples_split': [2, 5, 10],\n",
        "        'min_samples_leaf': [1, 2, 4]\n",
        "}\n",
        "best_rf = train_model(rf_model, rf_params, X_train, y_train)"
      ]
    },
    {
      "cell_type": "markdown",
      "source": [
        "Best score (Accuracy): 0.9670317878973982 , a good model."
      ],
      "metadata": {
        "id": "oxhGnthy3tlP"
      }
    },
    {
      "cell_type": "markdown",
      "metadata": {
        "id": "8PmO3yZkv92O"
      },
      "source": [
        "## Model 2: XGBoost"
      ]
    },
    {
      "cell_type": "code",
      "execution_count": null,
      "metadata": {
        "colab": {
          "base_uri": "https://localhost:8080/"
        },
        "id": "kkeHpuRav5vM",
        "outputId": "77c1785f-62b5-4717-a871-22ca411b3db4"
      },
      "outputs": [
        {
          "name": "stdout",
          "output_type": "stream",
          "text": [
            "\n",
            "Training XGBoost...\n",
            "Best parameters: {'colsample_bytree': 1, 'learning_rate': 0.01, 'max_depth': 9, 'n_estimators': 500}\n",
            "Best score (Accuracy): 0.9795257182019659\n"
          ]
        }
      ],
      "source": [
        "print(\"\\nTraining XGBoost...\")\n",
        "xgb_model = xgb.XGBClassifier(random_state=42)\n",
        "xgb_params = {\n",
        "    'n_estimators': [100, 500, 1000],\n",
        "    'learning_rate': [0.1, 0.001, 0.01],\n",
        "    'max_depth': [3, 5, 9, 15],\n",
        "    'colsample_bytree': [0.5, 0.75, 1]\n",
        "}\n",
        "best_xgb = train_model(xgb_model, xgb_params, X_train, y_train)"
      ]
    },
    {
      "cell_type": "markdown",
      "source": [
        "The Best score (Accuracy): 0.9795257182019659 , also a good model"
      ],
      "metadata": {
        "id": "6RoEqd8UWrUv"
      }
    },
    {
      "cell_type": "markdown",
      "metadata": {
        "id": "Yl2BoGaq0oKH"
      },
      "source": [
        "## Model 3: MLP Model"
      ]
    },
    {
      "cell_type": "code",
      "execution_count": null,
      "metadata": {
        "colab": {
          "base_uri": "https://localhost:8080/"
        },
        "id": "BC0RZstmygfk",
        "outputId": "5e48c402-0d25-4de3-c7e8-88787035a5f4"
      },
      "outputs": [
        {
          "name": "stdout",
          "output_type": "stream",
          "text": [
            "\n",
            "Training MLP...\n",
            "Best parameters: {'activation': 'tanh', 'alpha': 0.0001, 'hidden_layer_sizes': (100,), 'learning_rate': 'constant'}\n",
            "Best score (Accuracy): 0.9803213304179016\n"
          ]
        },
        {
          "name": "stderr",
          "output_type": "stream",
          "text": [
            "/usr/local/lib/python3.10/dist-packages/sklearn/neural_network/_multilayer_perceptron.py:686: ConvergenceWarning: Stochastic Optimizer: Maximum iterations (200) reached and the optimization hasn't converged yet.\n",
            "  warnings.warn(\n"
          ]
        }
      ],
      "source": [
        "print(\"\\nTraining MLP...\")\n",
        "mlp_model = MLPClassifier(random_state=42)\n",
        "mlp_params = {\n",
        "    'hidden_layer_sizes': [(50, 50), (100,), (100, 50)],\n",
        "    'activation': ['relu', 'tanh'],\n",
        "    'alpha': [0.0001, 0.001, 0.01],\n",
        "    'learning_rate': ['constant', 'invscaling', 'adaptive'],\n",
        "}\n",
        "best_mlp = train_model(mlp_model, mlp_params, X_train, y_train)\n"
      ]
    },
    {
      "cell_type": "markdown",
      "source": [
        "The Best score (Accuracy): 0.9803213304179016 , also a good model"
      ],
      "metadata": {
        "id": "dj2XLtqBWyGK"
      }
    },
    {
      "cell_type": "markdown",
      "metadata": {
        "id": "d041zvcnRl4J"
      },
      "source": [
        "## Model 4: Ensembled Model\n"
      ]
    },
    {
      "cell_type": "markdown",
      "metadata": {
        "id": "LL1_3Wr_SG9_"
      },
      "source": [
        "This is an ensemble model that will combine the best versions of my 3 models into a single model."
      ]
    },
    {
      "cell_type": "code",
      "execution_count": null,
      "metadata": {
        "id": "WLZ1KQALOVxS"
      },
      "outputs": [],
      "source": [
        "# Create an ensemble model\n",
        "ensemble = VotingClassifier(\n",
        "    estimators=[\n",
        "        ('rf', best_rf),\n",
        "        ('xgb', best_xgb),\n",
        "        ('mlp', best_mlp),\n",
        "\n",
        "    ]\n",
        ")"
      ]
    },
    {
      "cell_type": "code",
      "execution_count": null,
      "metadata": {
        "colab": {
          "base_uri": "https://localhost:8080/"
        },
        "id": "ZpEC4H_1SDxI",
        "outputId": "06a53405-a5c8-4235-dc4c-9344c7ebedea"
      },
      "outputs": [
        {
          "name": "stdout",
          "output_type": "stream",
          "text": [
            "\n",
            "Training Ensemble Model...\n"
          ]
        },
        {
          "name": "stderr",
          "output_type": "stream",
          "text": [
            "/usr/local/lib/python3.10/dist-packages/sklearn/neural_network/_multilayer_perceptron.py:686: ConvergenceWarning: Stochastic Optimizer: Maximum iterations (200) reached and the optimization hasn't converged yet.\n",
            "  warnings.warn(\n"
          ]
        },
        {
          "name": "stdout",
          "output_type": "stream",
          "text": [
            "Ensemble model accuracy on training set: 0.9992023398032438\n"
          ]
        }
      ],
      "source": [
        "# Fit model on the training data\n",
        "print(\"\\nTraining Ensemble Model...\")\n",
        "ensemble.fit(X_train, y_train)\n",
        "\n",
        "# Predict and evaluate on the training set\n",
        "train_pred = ensemble.predict(X_train)\n",
        "train_accuracy = accuracy_score(y_train, train_pred)\n",
        "print(f\"Ensemble model accuracy on training set: {train_accuracy}\")"
      ]
    },
    {
      "cell_type": "markdown",
      "source": [
        "The Ensemble Model Accuracy is 0.9992023398032438 . Great!"
      ],
      "metadata": {
        "id": "rhJDvpc_W9Dp"
      }
    },
    {
      "cell_type": "markdown",
      "metadata": {
        "id": "LUNv-rWuUrc_"
      },
      "source": [
        "Let's save so we don't have to incur cost of training if runtime fails"
      ]
    },
    {
      "cell_type": "markdown",
      "metadata": {
        "id": "J-L5KPJ8UtwX"
      },
      "source": [
        "## Saving Models"
      ]
    },
    {
      "cell_type": "code",
      "execution_count": null,
      "metadata": {
        "colab": {
          "base_uri": "https://localhost:8080/"
        },
        "id": "skdMqDBqUu3-",
        "outputId": "1e503618-8fa2-48ab-aaf4-58fb745e26a7"
      },
      "outputs": [
        {
          "name": "stdout",
          "output_type": "stream",
          "text": [
            "/content/drive/My Drive/Colab Notebooks\n"
          ]
        }
      ],
      "source": [
        "%cd '/content/drive/My Drive/Colab Notebooks'\n"
      ]
    },
    {
      "cell_type": "code",
      "execution_count": null,
      "metadata": {
        "id": "Vg3I6Ag8U0m5"
      },
      "outputs": [],
      "source": [
        "with open('best_rf_model.pkl', 'wb') as file:\n",
        "    pickle.dump(best_rf, file)\n",
        "\n",
        "with open('best_xgb_model.pkl', 'wb') as file:\n",
        "    pickle.dump(best_xgb, file)\n",
        "\n",
        "with open('best_mlp_model.pkl', 'wb') as file:\n",
        "    pickle.dump(best_mlp, file)\n",
        "\n",
        "with open('ensemble_model.pkl', 'wb') as file:\n",
        "    pickle.dump(ensemble, file)"
      ]
    },
    {
      "cell_type": "markdown",
      "metadata": {
        "id": "8MdZEfAFd2jN"
      },
      "source": [
        "Test if model saved well"
      ]
    },
    {
      "cell_type": "code",
      "execution_count": null,
      "metadata": {
        "colab": {
          "base_uri": "https://localhost:8080/"
        },
        "id": "d01eazQEd3U9",
        "outputId": "bffab9aa-d6f2-4716-aa9e-6c0b4d6aa8b7"
      },
      "outputs": [
        {
          "name": "stdout",
          "output_type": "stream",
          "text": [
            "Ensemble model Accuracy on test set: 0.9832610043397396\n"
          ]
        }
      ],
      "source": [
        "with open('ensemble_model.pkl', 'rb') as file:\n",
        "    loaded_model = pickle.load(file)\n",
        "\n",
        "predictions = loaded_model.predict(X_test)\n",
        "\n",
        "en_acc = accuracy_score(y_test, predictions)\n",
        "\n",
        "print(f\"Ensemble model Accuracy on test set: {en_acc}\")"
      ]
    },
    {
      "cell_type": "markdown",
      "metadata": {
        "id": "hm1vGu72eMDd"
      },
      "source": [
        "It Saved Well"
      ]
    },
    {
      "cell_type": "markdown",
      "metadata": {
        "id": "CNmsYHypeSbR"
      },
      "source": [
        "# Evaluation"
      ]
    },
    {
      "cell_type": "markdown",
      "metadata": {
        "id": "ajEGkhMufgmi"
      },
      "source": [
        "We are going to evaluate the models using f1 score, precision,confusion matrix and classification reports.Multiplying the results by 100 and rounding to 2 decimal points using the round function:"
      ]
    },
    {
      "cell_type": "markdown",
      "source": [
        "## Random Forest Evaluation"
      ],
      "metadata": {
        "id": "6w-K5JUyjqWL"
      }
    },
    {
      "cell_type": "code",
      "execution_count": 62,
      "metadata": {
        "id": "wtcuckIbfbul",
        "colab": {
          "base_uri": "https://localhost:8080/",
          "height": 246
        },
        "outputId": "039a0761-427d-439f-8fd2-d90810e8b657"
      },
      "outputs": [
        {
          "output_type": "error",
          "ename": "NameError",
          "evalue": "ignored",
          "traceback": [
            "\u001b[0;31m---------------------------------------------------------------------------\u001b[0m",
            "\u001b[0;31mNameError\u001b[0m                                 Traceback (most recent call last)",
            "\u001b[0;32m<ipython-input-62-1e589ee563bf>\u001b[0m in \u001b[0;36m<cell line: 2>\u001b[0;34m()\u001b[0m\n\u001b[1;32m      1\u001b[0m \u001b[0;31m#predict on test set\u001b[0m\u001b[0;34m\u001b[0m\u001b[0;34m\u001b[0m\u001b[0m\n\u001b[0;32m----> 2\u001b[0;31m \u001b[0mrf_pred\u001b[0m \u001b[0;34m=\u001b[0m \u001b[0mbest_rf\u001b[0m\u001b[0;34m.\u001b[0m\u001b[0mpredict\u001b[0m\u001b[0;34m(\u001b[0m\u001b[0mX_test\u001b[0m\u001b[0;34m)\u001b[0m\u001b[0;34m\u001b[0m\u001b[0;34m\u001b[0m\u001b[0m\n\u001b[0m\u001b[1;32m      3\u001b[0m \u001b[0;34m\u001b[0m\u001b[0m\n\u001b[1;32m      4\u001b[0m \u001b[0;34m\u001b[0m\u001b[0m\n\u001b[1;32m      5\u001b[0m \u001b[0;31m# Evaluate using accuracy score, precision, recall, F1 score, confusion matrix, and classification report\u001b[0m\u001b[0;34m\u001b[0m\u001b[0;34m\u001b[0m\u001b[0m\n",
            "\u001b[0;31mNameError\u001b[0m: name 'best_rf' is not defined"
          ]
        }
      ],
      "source": [
        "#predict on test set\n",
        "rf_pred = best_rf.predict(X_test)\n",
        "\n",
        "\n",
        "# Evaluate using accuracy score, precision, recall, F1 score, confusion matrix, and classification report\n",
        "rf_accuracy = round(accuracy_score(y_test, rf_pred) * 100, 2)\n",
        "rf_precision = round(precision_score(y_test, rf_pred, average='weighted') * 100, 2)\n",
        "rf_recall = round(recall_score(y_test, rf_pred, average='weighted') * 100, 2)\n",
        "rf_f1 = round(f1_score(y_test, rf_pred, average='weighted') * 100, 2)\n",
        "rf_conf_matrix = confusion_matrix(y_test, rf_pred)\n",
        "rf_class_report = classification_report(y_test, rf_pred)"
      ]
    },
    {
      "cell_type": "code",
      "source": [
        "print(\"\\nEvaluating Random Forest...\")\n",
        "\n",
        "print(f\"Random Forest Classifier Accuracy: {rf_accuracy}\")\n",
        "print(f\"Random Forest Classifier Precision: {rf_precision}\")\n",
        "print(f\"Random Forest Classifier Recall: {rf_recall}\")\n",
        "print(f\"Random Forest Classifier F1 Score: {rf_f1}\")"
      ],
      "metadata": {
        "colab": {
          "base_uri": "https://localhost:8080/"
        },
        "id": "rdytSlruiFKd",
        "outputId": "135c847d-0dbf-405c-dab2-b70da5a55178"
      },
      "execution_count": 199,
      "outputs": [
        {
          "output_type": "stream",
          "name": "stdout",
          "text": [
            "\n",
            "Evaluating Random Forest...\n",
            "Random Forest Classifier Accuracy: 96.22\n",
            "Random Forest Classifier Precision: 96.22\n",
            "Random Forest Classifier Recall: 96.22\n",
            "Random Forest Classifier F1 Score: 96.21\n"
          ]
        }
      ]
    },
    {
      "cell_type": "code",
      "source": [
        "print(f\"Random Forest Classifier Confusion Matrix:\\n{rf_conf_matrix}\")"
      ],
      "metadata": {
        "colab": {
          "base_uri": "https://localhost:8080/"
        },
        "id": "pNSbQtj_jhGS",
        "outputId": "081246e6-912c-4f5e-cb8f-5354e8bf4fe6"
      },
      "execution_count": 202,
      "outputs": [
        {
          "output_type": "stream",
          "name": "stdout",
          "text": [
            "Random Forest Classifier Confusion Matrix:\n",
            "[[930  24]\n",
            " [ 37 622]]\n"
          ]
        }
      ]
    },
    {
      "cell_type": "code",
      "source": [
        "print(f\"Random Forest Classifier Classification Report:\\n{rf_class_report}\")"
      ],
      "metadata": {
        "colab": {
          "base_uri": "https://localhost:8080/"
        },
        "id": "Smu3Dq2kjiu7",
        "outputId": "005bcfe6-1b47-4546-daca-a8130c0ead87"
      },
      "execution_count": 203,
      "outputs": [
        {
          "output_type": "stream",
          "name": "stdout",
          "text": [
            "Random Forest Classifier Classification Report:\n",
            "              precision    recall  f1-score   support\n",
            "\n",
            "           0       0.96      0.97      0.97       954\n",
            "           1       0.96      0.94      0.95       659\n",
            "\n",
            "    accuracy                           0.96      1613\n",
            "   macro avg       0.96      0.96      0.96      1613\n",
            "weighted avg       0.96      0.96      0.96      1613\n",
            "\n"
          ]
        }
      ]
    },
    {
      "cell_type": "markdown",
      "source": [
        "## XGBoost Evaluation"
      ],
      "metadata": {
        "id": "s-B3hQtaj2a1"
      }
    },
    {
      "cell_type": "code",
      "execution_count": 200,
      "metadata": {
        "id": "Fiv9zto7eLwu"
      },
      "outputs": [],
      "source": [
        "#predict on test set\n",
        "xgb_pred = best_xgb.predict(X_test)\n",
        "\n",
        "\n",
        "# Evaluate using accuracy, precision, recall, F1 score, confusion matrix, and classification report\n",
        "xgb_accuracy = round(accuracy_score(y_test, xgb_pred) * 100, 2)\n",
        "xgb_precision = round(precision_score(y_test, xgb_pred, average='weighted') * 100, 2)\n",
        "xgb_recall = round(recall_score(y_test, xgb_pred, average='weighted') * 100, 2)\n",
        "xgb_f1 = round(f1_score(y_test, xgb_pred, average='weighted') * 100, 2)\n",
        "xgb_conf_matrix = confusion_matrix(y_test, xgb_pred)\n",
        "xgb_class_report = classification_report(y_test, xgb_pred)"
      ]
    },
    {
      "cell_type": "code",
      "source": [
        "print(\"\\nEvaluating XGBoost...\")\n",
        "\n",
        "\n",
        "print(f\"XGBoost Classifier Accuracy: {xgb_accuracy}\")\n",
        "print(f\"XGBoost Classifier Precision: {xgb_precision}\")\n",
        "print(f\"XGBoost Classifier Recall: {xgb_recall}\")\n",
        "print(f\"XGBoost Classifier F1 Score: {xgb_f1}\")"
      ],
      "metadata": {
        "colab": {
          "base_uri": "https://localhost:8080/"
        },
        "id": "fSaat-VokpgY",
        "outputId": "d0f41701-0e05-4d87-8cc5-ff97faa22386"
      },
      "execution_count": 201,
      "outputs": [
        {
          "output_type": "stream",
          "name": "stdout",
          "text": [
            "\n",
            "Evaluating XGBoost...\n",
            "XGBoost Classifier Accuracy: 97.64\n",
            "XGBoost Classifier Precision: 97.64\n",
            "XGBoost Classifier Recall: 97.64\n",
            "XGBoost Classifier F1 Score: 97.64\n"
          ]
        }
      ]
    },
    {
      "cell_type": "code",
      "source": [
        "print(f\"XGBoost Classifier Confusion Matrix:\\n{xgb_conf_matrix}\")"
      ],
      "metadata": {
        "colab": {
          "base_uri": "https://localhost:8080/"
        },
        "id": "toz7igDokplh",
        "outputId": "c441ad2b-00d0-4ff4-c12a-bfe602cd7627"
      },
      "execution_count": 204,
      "outputs": [
        {
          "output_type": "stream",
          "name": "stdout",
          "text": [
            "XGBoost Classifier Confusion Matrix:\n",
            "[[936  18]\n",
            " [ 20 639]]\n"
          ]
        }
      ]
    },
    {
      "cell_type": "code",
      "source": [
        "print(f\"XGBoost Classifier Classification Report:\\n{xgb_class_report}\")"
      ],
      "metadata": {
        "colab": {
          "base_uri": "https://localhost:8080/"
        },
        "id": "8wxfSWWlkpq_",
        "outputId": "d41dd7ac-0cf3-4c4e-b5a5-aaf9194d75f8"
      },
      "execution_count": 205,
      "outputs": [
        {
          "output_type": "stream",
          "name": "stdout",
          "text": [
            "XGBoost Classifier Classification Report:\n",
            "              precision    recall  f1-score   support\n",
            "\n",
            "           0       0.98      0.98      0.98       954\n",
            "           1       0.97      0.97      0.97       659\n",
            "\n",
            "    accuracy                           0.98      1613\n",
            "   macro avg       0.98      0.98      0.98      1613\n",
            "weighted avg       0.98      0.98      0.98      1613\n",
            "\n"
          ]
        }
      ]
    },
    {
      "cell_type": "markdown",
      "source": [
        "## MLP Evaluation"
      ],
      "metadata": {
        "id": "orj4a9julbQO"
      }
    },
    {
      "cell_type": "code",
      "execution_count": 206,
      "metadata": {
        "id": "M7hgfAhmfZAH"
      },
      "outputs": [],
      "source": [
        "#predict on test set\n",
        "mlp_pred = best_mlp.predict(X_test)\n",
        "\n",
        "# Evaluate using accuracy, precision, recall, F1 score, confusion matrix, and classification report\n",
        "mlp_accuracy = round(accuracy_score(y_test, mlp_pred) * 100, 2)\n",
        "mlp_precision = round(precision_score(y_test, mlp_pred, average='weighted') * 100, 2)\n",
        "mlp_recall = round(recall_score(y_test, mlp_pred, average='weighted') * 100, 2)\n",
        "mlp_f1 = round(f1_score(y_test, mlp_pred, average='weighted') * 100, 2)\n",
        "mlp_conf_matrix = confusion_matrix(y_test, mlp_pred)\n",
        "mlp_class_report = classification_report(y_test, mlp_pred)"
      ]
    },
    {
      "cell_type": "code",
      "source": [
        "print(\"\\nEvaluating MLP...\")\n",
        "\n",
        "\n",
        "print(f\"MLP Classifier Accuracy: {mlp_accuracy}\")\n",
        "print(f\"MLP Classifier Precision: {mlp_precision}\")\n",
        "print(f\"MLP Classifier Recall: {mlp_recall}\")\n",
        "print(f\"MLP Classifier F1 Score: {mlp_f1}\")\n",
        "\n"
      ],
      "metadata": {
        "colab": {
          "base_uri": "https://localhost:8080/"
        },
        "id": "ZpLYqyyumiak",
        "outputId": "7d736c9e-488d-4ffb-8049-9e9696188220"
      },
      "execution_count": 207,
      "outputs": [
        {
          "output_type": "stream",
          "name": "stdout",
          "text": [
            "\n",
            "Evaluating MLP...\n",
            "MLP Classifier Accuracy: 98.64\n",
            "MLP Classifier Precision: 98.65\n",
            "MLP Classifier Recall: 98.64\n",
            "MLP Classifier F1 Score: 98.64\n"
          ]
        }
      ]
    },
    {
      "cell_type": "code",
      "source": [
        "print(f\"MLP Classifier Confusion Matrix:\\n{mlp_conf_matrix}\")"
      ],
      "metadata": {
        "colab": {
          "base_uri": "https://localhost:8080/"
        },
        "id": "CMr2_CBpmxJC",
        "outputId": "be1bf48f-5468-4a02-8a49-5786fea5dccc"
      },
      "execution_count": 208,
      "outputs": [
        {
          "output_type": "stream",
          "name": "stdout",
          "text": [
            "MLP Classifier Confusion Matrix:\n",
            "[[938  16]\n",
            " [  6 653]]\n"
          ]
        }
      ]
    },
    {
      "cell_type": "code",
      "source": [
        "print(f\"MLP Classifier Classification Report:\\n{mlp_class_report}\")"
      ],
      "metadata": {
        "colab": {
          "base_uri": "https://localhost:8080/"
        },
        "id": "nIIjlzovmxP1",
        "outputId": "1ad0a022-bed9-4b1e-a53d-05bcf383821e"
      },
      "execution_count": 209,
      "outputs": [
        {
          "output_type": "stream",
          "name": "stdout",
          "text": [
            "MLP Classifier Classification Report:\n",
            "              precision    recall  f1-score   support\n",
            "\n",
            "           0       0.99      0.98      0.99       954\n",
            "           1       0.98      0.99      0.98       659\n",
            "\n",
            "    accuracy                           0.99      1613\n",
            "   macro avg       0.98      0.99      0.99      1613\n",
            "weighted avg       0.99      0.99      0.99      1613\n",
            "\n"
          ]
        }
      ]
    },
    {
      "cell_type": "markdown",
      "source": [
        "## Ensemble Evaluation"
      ],
      "metadata": {
        "id": "zAGyh1kvlika"
      }
    },
    {
      "cell_type": "code",
      "execution_count": 210,
      "metadata": {
        "id": "ovyqy5wWfd8Y"
      },
      "outputs": [],
      "source": [
        "#predict on test set\n",
        "ensemble_pred = ensemble.predict(X_test)\n",
        "\n",
        "# Evaluate using accuracy, precision, recall, F1 score, confusion matrix, and classification report\n",
        "ensemble_accuracy = round(accuracy_score(y_test, ensemble_pred) * 100, 2)\n",
        "ensemble_precision = round(precision_score(y_test, ensemble_pred, average='weighted') * 100, 2)\n",
        "ensemble_recall = round(recall_score(y_test, ensemble_pred, average='weighted') * 100, 2)\n",
        "ensemble_f1 = round(f1_score(y_test, ensemble_pred, average='weighted') * 100, 2)\n",
        "ensemble_conf_matrix = confusion_matrix(y_test, ensemble_pred)\n",
        "ensemble_class_report = classification_report(y_test, ensemble_pred)"
      ]
    },
    {
      "cell_type": "code",
      "source": [
        "print(\"\\nEvaluating Ensemble...\")\n",
        "\n",
        "print(f\"Ensemble Model Accuracy: {ensemble_accuracy}\")\n",
        "print(f\"Ensemble Model Precision: {ensemble_precision}\")\n",
        "print(f\"Ensemble Model Recall: {ensemble_recall}\")\n",
        "print(f\"Ensemble Model F1 Score: {ensemble_f1}\")"
      ],
      "metadata": {
        "colab": {
          "base_uri": "https://localhost:8080/"
        },
        "id": "teLL3WAzntQ7",
        "outputId": "724cd7e2-6866-4ab6-abff-0decf86bfdb6"
      },
      "execution_count": 211,
      "outputs": [
        {
          "output_type": "stream",
          "name": "stdout",
          "text": [
            "\n",
            "Evaluating Ensemble...\n",
            "Ensemble Model Accuracy: 98.33\n",
            "Ensemble Model Precision: 98.33\n",
            "Ensemble Model Recall: 98.33\n",
            "Ensemble Model F1 Score: 98.33\n"
          ]
        }
      ]
    },
    {
      "cell_type": "code",
      "source": [
        "print(f\"Ensemble Model Confusion Matrix:\\n{ensemble_conf_matrix}\")"
      ],
      "metadata": {
        "colab": {
          "base_uri": "https://localhost:8080/"
        },
        "id": "dt6cJiCGntjr",
        "outputId": "6d077668-855c-4c9c-f9ee-8374c46394f7"
      },
      "execution_count": 212,
      "outputs": [
        {
          "output_type": "stream",
          "name": "stdout",
          "text": [
            "Ensemble Model Confusion Matrix:\n",
            "[[942  12]\n",
            " [ 15 644]]\n"
          ]
        }
      ]
    },
    {
      "cell_type": "code",
      "source": [
        "print(f\"Ensemble Model Classification Report:\\n{ensemble_class_report}\")"
      ],
      "metadata": {
        "colab": {
          "base_uri": "https://localhost:8080/"
        },
        "id": "YNWu4vayntnS",
        "outputId": "eaad6ec4-0d57-4d40-eb69-5f5983f4ba37"
      },
      "execution_count": 213,
      "outputs": [
        {
          "output_type": "stream",
          "name": "stdout",
          "text": [
            "Ensemble Model Classification Report:\n",
            "              precision    recall  f1-score   support\n",
            "\n",
            "           0       0.98      0.99      0.99       954\n",
            "           1       0.98      0.98      0.98       659\n",
            "\n",
            "    accuracy                           0.98      1613\n",
            "   macro avg       0.98      0.98      0.98      1613\n",
            "weighted avg       0.98      0.98      0.98      1613\n",
            "\n"
          ]
        }
      ]
    },
    {
      "cell_type": "code",
      "source": [
        "!pip freeze > requirements.txt"
      ],
      "metadata": {
        "id": "i1yz0rCOqNlk"
      },
      "execution_count": 63,
      "outputs": []
    }
  ],
  "metadata": {
    "colab": {
      "toc_visible": true,
      "provenance": [],
      "mount_file_id": "1sExjCV0GelgSUvBx5AmhWDLOJP7Oz39-",
      "authorship_tag": "ABX9TyO96EFDq851CkbHogMxDux4",
      "include_colab_link": true
    },
    "kernelspec": {
      "display_name": "Python 3",
      "name": "python3"
    },
    "language_info": {
      "name": "python"
    }
  },
  "nbformat": 4,
  "nbformat_minor": 0
}